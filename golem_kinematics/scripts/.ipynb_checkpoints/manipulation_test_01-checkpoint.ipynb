{
 "cells": [
  {
   "cell_type": "code",
   "execution_count": 2,
   "metadata": {
    "collapsed": false
   },
   "outputs": [
    {
     "name": "stdout",
     "output_type": "stream",
     "text": [
      "Attempting to move right_arm\n",
      "Motion plan found in 1 attempts!\n",
      "Moving right_arm to joint state:\n",
      "     [0.0, 0.0, 0.0, 0.0, 0.0, 0.0] \n",
      "\n",
      "Attempting to move right_eef\n",
      "Motion plan found in 1 attempts!\n",
      "Moving right_eef to joint state:\n",
      "     [1.2, 0.3] \n",
      "\n",
      "Attempting to move left_arm\n",
      "Motion plan found in 1 attempts!\n",
      "Moving left_arm to joint state:\n",
      "     [0.0, 0.0, 0.0, 0.0, 0.0] \n",
      "\n",
      "Attempting to move left_eef\n",
      "Motion plan found in 1 attempts!\n",
      "Moving left_eef to joint state:\n",
      "     [1.2, 0.3] \n",
      "\n"
     ]
    },
    {
     "data": {
      "text/plain": [
       "True"
      ]
     },
     "execution_count": 2,
     "metadata": {},
     "output_type": "execute_result"
    }
   ],
   "source": [
    "import sys\n",
    "import rospy as rp\n",
    "import manipulation_node\n",
    "import moveit_commander\n",
    "import geometry_msgs.msg\n",
    "\n",
    "rp.init_node('pruebas_mani_node_milochomil4')\n",
    "moveit_commander.roscpp_initialize(sys.argv)\n",
    "\n",
    "robot = moveit_commander.RobotCommander()\n",
    "scene = moveit_commander.PlanningSceneInterface()\n",
    "\n",
    "right_arm = manipulation_node.Arm('right_arm')\n",
    "right_arm.add_end_effector('right_eef')\n",
    "right_arm.move_to_joint_state([0.0, 0.0, 0.0, 0.0, 0.0, 0.0])\n",
    "right_arm.eef.open_gripper()\n",
    "\n",
    "left_arm = manipulation_node.Arm('left_arm')\n",
    "left_arm.add_end_effector('left_eef')\n",
    "left_arm.move_to_joint_state([0.0, 0.0, 0.0, 0.0, 0.0])\n",
    "left_arm.eef.open_gripper()"
   ]
  },
  {
   "cell_type": "code",
   "execution_count": 3,
   "metadata": {
    "collapsed": false
   },
   "outputs": [
    {
     "name": "stdout",
     "output_type": "stream",
     "text": [
      "Attempting to move right_arm\n",
      "Motion plan found in 1 attempts!\n",
      "Moving right_arm to joint state:\n",
      "     [0.0, 0.0, 0.0, 0.0, 0.0, 0.0] \n",
      "\n",
      "Attempting to move right_eef\n",
      "Motion plan found in 1 attempts!\n",
      "Moving right_eef to joint state:\n",
      "     [1.2, 0.3] \n",
      "\n",
      "Attempting to move left_arm\n",
      "Motion plan found in 1 attempts!\n",
      "Moving left_arm to joint state:\n",
      "     [0.0, 0.0, 0.0, 0.7, 0.0] \n",
      "\n",
      "Attempting to move left_eef\n",
      "Motion plan found in 1 attempts!\n",
      "Moving left_eef to joint state:\n",
      "     [0.4, 1.1] \n",
      "\n"
     ]
    },
    {
     "data": {
      "text/plain": [
       "True"
      ]
     },
     "execution_count": 3,
     "metadata": {},
     "output_type": "execute_result"
    }
   ],
   "source": [
    "right_arm.move_to_joint_state(right_arm.home)\n",
    "right_arm.eef.open_gripper()\n",
    "left_arm.move_to_joint_state([0.0, 0.0, 0.0, 0.7, 0.0])\n",
    "left_arm.eef.close_gripper()"
   ]
  },
  {
   "cell_type": "markdown",
   "metadata": {},
   "source": [
    "## Prueba 1"
   ]
  },
  {
   "cell_type": "code",
   "execution_count": null,
   "metadata": {
    "collapsed": false
   },
   "outputs": [],
   "source": [
    "right_arm.pick((0.98, -0.2, 1.0), 'coke_04', 'r_wrist', ['r_gripper_m15', 'r_gripper_m17'])\n",
    "right_arm.place((0.6, -0.75, 1.03), 'coke_04')\n",
    "rp.sleep(20)\n",
    "right_arm.move_to_joint_state(right_arm.home)\n",
    "\n",
    "right_arm.pick((0.99, -0.2, 1.3), 'coke_02', 'r_wrist', ['r_gripper_m15', 'r_gripper_m17'])\n",
    "right_arm.move_to_joint_state(right_arm.home)\n",
    "right_arm.place((0.6, -0.75, 1.32), 'coke_02')\n",
    "rp.sleep(20)\n",
    "right_arm.move_to_joint_state(right_arm.home)\n",
    "\n",
    "right_arm.pick((0.98, 0.2, 1.32), 'coke_01', 'r_wrist', ['r_gripper_m15', 'r_gripper_m17'])\n",
    "right_arm.place((1.0, -0.2, 0.97), 'coke_01')\n",
    "rp.sleep(20)\n",
    "right_arm.move_to_joint_state(right_arm.home)\n",
    "\n",
    "right_arm.pick((0.98, 0.2, 1.0), 'coke_03', 'r_wrist', ['r_gripper_m15', 'r_gripper_m17'])\n",
    "right_arm.place([0.98, -0.25, 1.4], 'coke_03')\n",
    "rp.sleep(20)\n",
    "right_arm.move_to_joint_state(right_arm.home)"
   ]
  },
  {
   "cell_type": "markdown",
   "metadata": {},
   "source": [
    "## Prueba 2"
   ]
  },
  {
   "cell_type": "code",
   "execution_count": 5,
   "metadata": {
    "collapsed": false
   },
   "outputs": [
    {
     "name": "stdout",
     "output_type": "stream",
     "text": [
      "IK Solution was found in 1856 iterations.\n",
      "Computing trajectory...\n",
      "Attempting to move right_arm\n",
      "Motion plan found in 1 attempts!\n",
      "Moving right_arm to joint state:\n",
      "     [0.79951, -0.074739, -0.734771, 0.757054, -1.037054, 0.0] \n",
      "\n",
      "Attempting to move right_eef\n",
      "Motion plan found in 1 attempts!\n",
      "Moving right_eef to joint state:\n",
      "     [0.4, 1.1] \n",
      "\n",
      "IK Solution was found in 91846 iterations.\n",
      "Computing trajectory...\n",
      "Attempting to move right_arm\n",
      "Motion plan found in 1 attempts!\n",
      "Moving right_arm to joint state:\n",
      "     [0.018972, -0.02611, -0.752861, 0.80785, -1.03785, 0.0] \n",
      "\n",
      "Attempting to move right_eef\n",
      "Motion plan found in 1 attempts!\n",
      "Moving right_eef to joint state:\n",
      "     [1.2, 0.3] \n",
      "\n",
      "Attempting to move right_arm\n",
      "Motion plan found in 1 attempts!\n",
      "Moving right_arm to joint state:\n",
      "     [0.0, 0.0, 0.0, 0.0, 0.0, 0.0] \n",
      "\n",
      "IK Solution was found in 25 iterations.\n",
      "Computing trajectory...\n",
      "Attempting to move right_arm\n",
      "Motion plan found in 1 attempts!\n",
      "Moving right_arm to joint state:\n",
      "     [-0.025704, 0.950991, -0.925286, 1.542258, -1.422258, 0.0] \n",
      "\n",
      "Attempting to move right_eef\n",
      "Motion plan found in 1 attempts!\n",
      "Moving right_eef to joint state:\n",
      "     [0.4, 1.1] \n",
      "\n",
      "IK Solution was found in 5464 iterations.\n",
      "Computing trajectory...\n",
      "Attempting to move right_arm\n",
      "Motion plan found in 1 attempts!\n",
      "Moving right_arm to joint state:\n",
      "     [0.886182, -0.093669, -0.832514, 0.824948, -1.144948, 0.0] \n",
      "\n",
      "Attempting to move right_eef\n",
      "Motion plan found in 1 attempts!\n",
      "Moving right_eef to joint state:\n",
      "     [1.2, 0.3] \n",
      "\n",
      "Attempting to move right_arm\n",
      "Motion plan found in 1 attempts!\n",
      "Moving right_arm to joint state:\n",
      "     [0.0, 0.0, 0.0, 0.0, 0.0, 0.0] \n",
      "\n",
      "IK Solution was found in 9656 iterations.\n",
      "Computing trajectory...\n",
      "Attempting to move right_arm\n",
      "Motion plan found in 1 attempts!\n",
      "Moving right_arm to joint state:\n",
      "     [0.996301, 1.500585, -2.416885, 0.757054, -1.037054, 0.0] \n",
      "\n",
      "Attempting to move right_eef\n",
      "Motion plan found in 1 attempts!\n",
      "Moving right_eef to joint state:\n",
      "     [0.4, 1.1] \n",
      "\n",
      "IK Solution was found in 51 iterations.\n",
      "Computing trajectory...\n",
      "Attempting to move right_arm\n",
      "Motion plan found in 3 attempts!\n",
      "Moving right_arm to joint state:\n",
      "     [0.191896, 0.720287, -0.912182, 1.534726, -1.284726, 0.0] \n",
      "\n",
      "Attempting to move right_eef\n",
      "Motion plan found in 1 attempts!\n",
      "Moving right_eef to joint state:\n",
      "     [1.2, 0.3] \n",
      "\n",
      "Attempting to move right_arm\n",
      "Couldn't find trajectory solution in 5 attempts :(\n",
      "IK Solution was found in 4883 iterations.\n",
      "Computing trajectory...\n",
      "Attempting to move right_arm\n",
      "Motion plan found in 1 attempts!\n",
      "Moving right_arm to joint state:\n",
      "     [0.980427, 1.734962, -2.675388, 1.092814, -0.682814, 0.0] \n",
      "\n",
      "Attempting to move right_eef\n",
      "Motion plan found in 1 attempts!\n",
      "Moving right_eef to joint state:\n",
      "     [0.4, 1.1] \n",
      "\n",
      "IK Solution was found in 85851 iterations.\n",
      "Computing trajectory...\n",
      "Attempting to move right_arm\n",
      "Motion plan found in 1 attempts!\n",
      "Moving right_arm to joint state:\n",
      "     [-0.304096, 0.228725, -0.634629, 1.534726, -1.284726, 0.0] \n",
      "\n",
      "Attempting to move right_eef\n",
      "Motion plan found in 1 attempts!\n",
      "Moving right_eef to joint state:\n",
      "     [1.2, 0.3] \n",
      "\n",
      "Attempting to move right_arm\n",
      "Motion plan found in 1 attempts!\n",
      "Moving right_arm to joint state:\n",
      "     [0.0, 0.0, 0.0, 0.0, 0.0, 0.0] \n",
      "\n"
     ]
    }
   ],
   "source": [
    "right_arm.pick((0.98, -0.25, 1.0), 'coke_04', 'r_wrist', ['r_gripper_m15', 'r_gripper_m17'])\n",
    "right_arm.place((0.6, -0.75, 1.03), 'coke_04')\n",
    "rp.sleep(15)\n",
    "right_arm.move_to_joint_state(right_arm.home)\n",
    "rp.sleep(2)\n",
    "\n",
    "right_arm.pick((0.98, -0.25, 1.35), 'coke_02', 'r_wrist', ['r_gripper_m15', 'r_gripper_m17'])\n",
    "right_arm.place((1.0, -0.25, 1.0), 'coke_02')\n",
    "rp.sleep(15)\n",
    "right_arm.move_to_joint_state(right_arm.home)\n",
    "rp.sleep(2)\n",
    "\n",
    "right_arm.pick((0.98, 0.15, 1.0), 'coke_03', 'r_wrist', ['r_gripper_m15', 'r_gripper_m17'])\n",
    "right_arm.place([1.0, -0.25, 1.4], 'coke_03')\n",
    "rp.sleep(20)\n",
    "right_arm.move_to_joint_state(right_arm.home)\n",
    "rp.sleep(2)\n",
    "\n",
    "right_arm.pick((0.98, 0.15, 1.35), 'coke_01', 'r_wrist', ['r_gripper_m15', 'r_gripper_m17'])\n",
    "right_arm.place((0.6, -0.75, 1.4), 'coke_01')\n",
    "rp.sleep(15)\n",
    "right_arm.move_to_joint_state(right_arm.home)\n",
    "rp.sleep(2)"
   ]
  },
  {
   "cell_type": "code",
   "execution_count": null,
   "metadata": {
    "collapsed": true
   },
   "outputs": [],
   "source": []
  }
 ],
 "metadata": {
  "anaconda-cloud": {},
  "kernelspec": {
   "display_name": "Python 2",
   "language": "python",
   "name": "python2"
  },
  "language_info": {
   "codemirror_mode": {
    "name": "ipython",
    "version": 2
   },
   "file_extension": ".py",
   "mimetype": "text/x-python",
   "name": "python",
   "nbconvert_exporter": "python",
   "pygments_lexer": "ipython2",
   "version": "2.7.6"
  }
 },
 "nbformat": 4,
 "nbformat_minor": 0
}
