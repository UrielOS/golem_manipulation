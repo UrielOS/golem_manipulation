{
 "cells": [
  {
   "cell_type": "markdown",
   "metadata": {},
   "source": [
    "# Read URDF with python\n",
    "\n",
    "The python module **urdf_parser_py** makes it possible to read a URDF from a xml file or the parameter server.\n",
    "\n",
    "**IMPORTANT:** load first robot_description (urdf) to the parameter server. "
   ]
  },
  {
   "cell_type": "code",
   "execution_count": 3,
   "metadata": {
    "collapsed": false
   },
   "outputs": [],
   "source": [
    "import golem_kinematics\n",
    "import rospy as rp\n",
    "from urdf_parser_py.urdf import URDF"
   ]
  },
  {
   "cell_type": "markdown",
   "metadata": {},
   "source": [
    "## Read robot_description from ROS parameter server"
   ]
  },
  {
   "cell_type": "code",
   "execution_count": 4,
   "metadata": {
    "collapsed": false
   },
   "outputs": [
    {
     "name": "stderr",
     "output_type": "stream",
     "text": [
      "Unknown tag: hardwareInterfaceUnknown tag: hardwareInterfaceUnknown tag: hardwareInterfaceUnknown tag: hardwareInterfaceUnknown tag: hardwareInterfaceUnknown tag: hardwareInterfaceUnknown tag: hardwareInterfaceUnknown tag: hardwareInterfaceUnknown tag: hardwareInterfaceUnknown tag: hardwareInterfaceUnknown tag: hardwareInterfaceUnknown tag: hardwareInterfaceUnknown tag: hardwareInterfaceUnknown tag: hardwareInterfaceUnknown tag: hardwareInterfaceUnknown tag: hardwareInterfaceUnknown tag: hardwareInterfaceUnknown tag: hardwareInterface"
     ]
    }
   ],
   "source": [
    "robot = URDF.from_parameter_server()"
   ]
  },
  {
   "cell_type": "markdown",
   "metadata": {},
   "source": [
    "## Read joints and links "
   ]
  },
  {
   "cell_type": "code",
   "execution_count": 33,
   "metadata": {
    "collapsed": false
   },
   "outputs": [
    {
     "name": "stdout",
     "output_type": "stream",
     "text": [
      "Number of joints:  21 \n",
      "\n",
      "fixed  mb  m0  m1  m2  m10  m11  m12  m13  m14  r_eef_end  m15  m17  m20  m21  m22  m23  m24  l_eef_end  m25  m27  \n",
      "\n",
      "Number of links:  22 \n",
      "\n",
      "world   base_link   body   chest   head1   head2   r_shoulder_m10   r_shoulder_m11   r_arm   r_forearm   r_wrist   r_eef   r_gripper_m15   r_gripper_m17   l_shoulder_m20   l_shoulder_m21   l_arm   l_forearm   l_wrist   l_eef   l_gripper_m25   l_gripper_m27  \n"
     ]
    }
   ],
   "source": [
    "joints = robot.joints\n",
    "links = robot.links\n",
    "\n",
    "print 'Number of joints: ', len(joints), '\\n'\n",
    "for j in joints:\n",
    "    print j.name, '',\n",
    "    \n",
    "print '\\n\\nNumber of links: ', len(links), '\\n'\n",
    "for l in links:\n",
    "    print l.name, ' ',\n",
    "\n",
    "# Transform joints and links lists into dictionaries\n",
    "for j in joints:\n",
    "    joints_dic[j.name] = j\n",
    "for l in links:\n",
    "    links_dic[l.name] = l"
   ]
  },
  {
   "cell_type": "code",
   "execution_count": 43,
   "metadata": {
    "collapsed": false
   },
   "outputs": [
    {
     "name": "stdout",
     "output_type": "stream",
     "text": [
      "axis: [0.0, 0.0, 1.0]\n",
      "calibration: None\n",
      "child: chest\n",
      "dynamics: {damping: None, friction: 0.6}\n",
      "limit: {effort: 8.4, lower: -1.0, upper: 1.0, velocity: 0.1}\n",
      "mimic: None\n",
      "name: m0\n",
      "origin:\n",
      "  rpy: [0.0, 0.0, 0.0]\n",
      "  xyz: [0.035, 0.0, 0.8586]\n",
      "parent: body\n",
      "safety_controller: None\n",
      "type: revolute\n"
     ]
    }
   ],
   "source": [
    "## See properties of each \n",
    "print joints_dic['m0']\n",
    "# print links_dic['r_arm']"
   ]
  },
  {
   "cell_type": "code",
   "execution_count": 58,
   "metadata": {
    "collapsed": false
   },
   "outputs": [
    {
     "name": "stdout",
     "output_type": "stream",
     "text": [
      "[0.12661, -0.005, 0.37]\n",
      "[0.035, 0.0, 0.8586]\n",
      "[0.0, -0.1225, 0.059]\n",
      "[0.212, 0.0, 0.0554]\n",
      "[0.0, 0.0, -0.06]\n",
      "[0.249, 0.06, 0.0]\n",
      "[0.2, -0.034, 0.0]\n",
      "[0.0, 0.0, 0.2]\n"
     ]
    }
   ],
   "source": [
    "print joints_dic['mb'].origin.xyz\n",
    "print joints_dic['m0'].origin.xyz\n",
    "print joints_dic['m10'].origin.xyz\n",
    "print joints_dic['m11'].origin.xyz\n",
    "print joints_dic['m12'].origin.xyz\n",
    "print joints_dic['m13'].origin.xyz\n",
    "print joints_dic['m14'].origin.xyz\n",
    "print joints_dic['r_eef_end'].origin.xyz"
   ]
  },
  {
   "cell_type": "code",
   "execution_count": 65,
   "metadata": {
    "collapsed": false
   },
   "outputs": [
    {
     "name": "stdout",
     "output_type": "stream",
     "text": [
      "1.283 -0.1225 0.212 0.249 0.06 0.2 -0.034 0.2\n"
     ]
    }
   ],
   "source": [
    "# Obtain link dimentions to use in forward kinematics.\n",
    "L1z = joints_dic['mb'].origin.xyz[2] + \\\n",
    "        joints_dic['m0'].origin.xyz[2] + \\\n",
    "        joints_dic['m10'].origin.xyz[2] + \\\n",
    "        joints_dic['m11'].origin.xyz[2] + \\\n",
    "        joints_dic['m12'].origin.xyz[2]\n",
    "L1x = joints_dic['m10'].origin.xyz[1]\n",
    "L2x = joints_dic['m11'].origin.xyz[0]\n",
    "L41 = joints_dic['m13'].origin.xyz[0]\n",
    "L42 = joints_dic['m13'].origin.xyz[1]     \n",
    "L52 = joints_dic['m14'].origin.xyz[0]\n",
    "L5x = joints_dic['m14'].origin.xyz[1]\n",
    "L61 = joints_dic['r_eef_end'].origin.xyz[2]\n",
    "\n",
    "print L1z, L1x, L2x, L41, L42, L52, L5x, L61\n"
   ]
  }
 ],
 "metadata": {
  "anaconda-cloud": {},
  "kernelspec": {
   "display_name": "Python 2",
   "language": "python",
   "name": "python2"
  },
  "language_info": {
   "codemirror_mode": {
    "name": "ipython",
    "version": 2
   },
   "file_extension": ".py",
   "mimetype": "text/x-python",
   "name": "python",
   "nbconvert_exporter": "python",
   "pygments_lexer": "ipython2",
   "version": "2.7.6"
  }
 },
 "nbformat": 4,
 "nbformat_minor": 0
}
