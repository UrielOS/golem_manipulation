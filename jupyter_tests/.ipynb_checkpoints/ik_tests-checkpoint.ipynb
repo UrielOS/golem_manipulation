{
 "cells": [
  {
   "cell_type": "markdown",
   "metadata": {},
   "source": [
    "# IK Solvers Tests"
   ]
  },
  {
   "cell_type": "code",
   "execution_count": 1,
   "metadata": {
    "collapsed": false
   },
   "outputs": [],
   "source": [
    "import rospy\n",
    "import moveit_commander\n",
    "import moveit_msgs.msg\n",
    "import moveit_msgs.srv\n",
    "import sys\n",
    "\n",
    "import golem_right_arm_kinematics as gk\n",
    "import ik_tests\n",
    "import timeit"
   ]
  },
  {
   "cell_type": "markdown",
   "metadata": {},
   "source": [
    "## 1. MoveIt! Setup\n",
    "**NOTE:** Before running the next code, golem_moveit.launch must be launched!"
   ]
  },
  {
   "cell_type": "code",
   "execution_count": 2,
   "metadata": {
    "collapsed": false
   },
   "outputs": [
    {
     "name": "stdout",
     "output_type": "stream",
     "text": [
      "============ ROBOT COMMANDER STARTED! =============\n"
     ]
    }
   ],
   "source": [
    "moveit_commander.roscpp_initialize(sys.argv)\n",
    "\n",
    "# Robot commander object -> interface the robot as a whole\n",
    "robot = moveit_commander.RobotCommander()\n",
    "# MoveGroup object\n",
    "right_arm = moveit_commander.MoveGroupCommander(\"right_arm_kdl\")\n",
    "\n",
    "# Publisher to display trajectories in Rviz.\n",
    "rviz_pub = rospy.Publisher('/move_group/display_planned_path', moveit_msgs.msg.DisplayTrajectory, queue_size=10)\n",
    "print \"============ ROBOT COMMANDER STARTED! =============\""
   ]
  },
  {
   "cell_type": "markdown",
   "metadata": {},
   "source": [
    "## 2. Import test points from file"
   ]
  },
  {
   "cell_type": "code",
   "execution_count": 5,
   "metadata": {
    "collapsed": false
   },
   "outputs": [
    {
     "name": "stdout",
     "output_type": "stream",
     "text": [
      "10 poses read!\n"
     ]
    }
   ],
   "source": [
    "# Read file and storage poses in 'test_pose' variable as tuples\n",
    "f = open('ik_test_poses/test_poses(10).csv', 'r')\n",
    "test_poses = []\n",
    "for line in f:\n",
    "    pose = []\n",
    "    for string in line.split(','):\n",
    "        pose.append(round(float(string),7))\n",
    "    pose = tuple(pose)\n",
    "    test_poses.append(pose)\n",
    "test_poses = tuple(test_poses)\n",
    "print len(test_pose), 'poses read!'"
   ]
  },
  {
   "cell_type": "markdown",
   "metadata": {},
   "source": [
    "## 3. Tests\n",
    "### 3.1 Init service clients for FK and IK"
   ]
  },
  {
   "cell_type": "code",
   "execution_count": 4,
   "metadata": {
    "collapsed": false
   },
   "outputs": [
    {
     "name": "stdout",
     "output_type": "stream",
     "text": [
      "FK and IK services were found!\n",
      "Service client objects created!\n"
     ]
    }
   ],
   "source": [
    "# Init service client object\n",
    "rospy.wait_for_service('/golem_kinematics/right_arm/compute_fk')\n",
    "rospy.wait_for_service('/golem_kinematics/right_arm/compute_ik')\n",
    "print \"FK and IK services were found!\"\n",
    "\n",
    "compute_custom_ik = rospy.ServiceProxy('/golem_kinematics/right_arm/compute_ik', moveit_msgs.srv.GetPositionIK)\n",
    "compute_kdl_ik = rospy.ServiceProxy('/compute_ik', moveit_msgs.srv.GetPositionIK)\n",
    "compute_custom_fk = rospy.ServiceProxy('/golem_kinematics/right_arm/compute_fk', moveit_msgs.srv.GetPositionFK)\n",
    "compute_kdl_fk = rospy.ServiceProxy('/compute_fk', moveit_msgs.srv.GetPositionFK)\n",
    "print \"Service client objects created!\""
   ]
  },
  {
   "cell_type": "code",
   "execution_count": null,
   "metadata": {
    "collapsed": true
   },
   "outputs": [],
   "source": [
    "# Make an experiment for each given pose.\n",
    "for test in range(len(test_poses)):\n",
    "    try: # In case...\n",
    "        print '---------- TEST ', test+1, ' ----------'\n",
    "        print 'Pose: ', test_poses[test]\n",
    "        \n",
    "        # Transform pose tuple to IK MoveIt! msg\n",
    "        ik_req = ik_tests.ik_req_from_pose(*test_poses[test])"
   ]
  }
 ],
 "metadata": {
  "anaconda-cloud": {},
  "kernelspec": {
   "display_name": "Python 2",
   "language": "python",
   "name": "python2"
  },
  "language_info": {
   "codemirror_mode": {
    "name": "ipython",
    "version": 2
   },
   "file_extension": ".py",
   "mimetype": "text/x-python",
   "name": "python",
   "nbconvert_exporter": "python",
   "pygments_lexer": "ipython2",
   "version": "2.7.6"
  }
 },
 "nbformat": 4,
 "nbformat_minor": 0
}
