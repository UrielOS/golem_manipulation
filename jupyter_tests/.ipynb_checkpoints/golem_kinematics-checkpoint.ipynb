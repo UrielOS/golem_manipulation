{
 "cells": [
  {
   "cell_type": "markdown",
   "metadata": {},
   "source": [
    "# GOLEM - KINEMATICS"
   ]
  },
  {
   "cell_type": "markdown",
   "metadata": {},
   "source": [
    "## Funtions"
   ]
  },
  {
   "cell_type": "code",
   "execution_count": 1,
   "metadata": {
    "collapsed": false
   },
   "outputs": [],
   "source": [
    "import numpy as np\n",
    "import rospy as rp\n",
    "from math import *\n",
    "import std_msgs.msg as stdm"
   ]
  },
  {
   "cell_type": "code",
   "execution_count": 2,
   "metadata": {
    "collapsed": true
   },
   "outputs": [],
   "source": [
    "# Homogeneous matrix created from Denavit-Hartenberg parameters\n",
    "def DH(alpha, a, d, theta):\n",
    "    homo_matrix = np.array([\n",
    "        [cos(theta), -sin(theta)*cos(alpha), sin(theta)*sin(alpha), a*cos(theta)],\n",
    "        [sin(theta), cos(theta)*cos(alpha), -cos(theta)*sin(alpha), a*sin(theta)],\n",
    "        [0.0, sin(alpha), cos(alpha), d],\n",
    "        [0.0, 0.0, 0.0, 1.0]\n",
    "    ])\n",
    "    return homo_matrix\n",
    "\n",
    "# This function keeps an angle between -pi and +pi\n",
    "def rad_limit(theta):\n",
    "    phi = theta\n",
    "    if(theta < -pi):\n",
    "        phi += 2*pi\n",
    "    if(theta > pi):\n",
    "        phi -= 2*pi\n",
    "    return phi\n",
    "\n",
    "# This function checks if a solution is within joint angle restrictions\n",
    "def joint_restriction(t1, t2, t3, t4, t5, t6):\n",
    "    min1, max1 = -1.00, 1.00\n",
    "    min2, max2 = -1.14, 1.75\n",
    "    min3, max3 = -3.00, 3.00\n",
    "    min4, max4 = -1.55, 1.55\n",
    "    min5, max5 = -1.67, 1.67\n",
    "    min6, max6 = -1.50, 1.50\n",
    "    \n",
    "    if t1 <= max1 and t1 >= min1:\n",
    "        if t2 <= max2 and t2 >= min2:\n",
    "            if t3 <= max3 and t3 >= min3:\n",
    "                if t4 <= max4 and t4 >= min4:\n",
    "                    if t5 <= max5 and t5 >= min5:\n",
    "                        if t6 <= max6 and t6 >= min6:\n",
    "                            return True\n",
    "    return False"
   ]
  },
  {
   "cell_type": "markdown",
   "metadata": {},
   "source": [
    "## Data"
   ]
  },
  {
   "cell_type": "code",
   "execution_count": 23,
   "metadata": {
    "collapsed": false
   },
   "outputs": [
    {
     "name": "stdout",
     "output_type": "stream",
     "text": [
      "13.547938988\n",
      "35.3519546839\n"
     ]
    }
   ],
   "source": [
    "# Golem links dimensions\n",
    "L1z = 1.283      # distance from floor to chest\n",
    "L1x= 0.1225     # distance from chest to shoulder10\n",
    "L2x = 0.212   # distance from shoulder10 to shoulder11\n",
    "L41 = 0.249    # L41 and L42 are legs of the right triangle formed by arm \n",
    "L42 = 0.060     \n",
    "L52 = 0.200     # L5x and L52 are legs of the right triangle formed by forearm\n",
    "L5x = 0.034\n",
    "L61 = 0.20    # distance from forearm end to gripper center\n",
    "\n",
    "# auxiliary measures for arm and forearm\n",
    "L4x = sqrt(L41**2 + L42**2)\n",
    "rho = atan2(L42, L41)\n",
    "L6x = L52 + L61\n",
    "eta = atan2(L52, L5x) - pi/4\n",
    "\n",
    "print degrees(rho)\n",
    "print degrees(eta)\n",
    "\n",
    "min1, max1 = -1.00, 1.00\n",
    "min2, max2 = -1.14, 1.75\n",
    "min3, max3 = -3.00, 3.00\n",
    "min4, max4 = -1.55, 1.55\n",
    "min5, max5 = -1.67, 1.67\n",
    "min6, max6 = -1.50, 1.50"
   ]
  },
  {
   "cell_type": "markdown",
   "metadata": {},
   "source": [
    "## Direct Kinematics"
   ]
  },
  {
   "cell_type": "code",
   "execution_count": 14,
   "metadata": {
    "collapsed": false
   },
   "outputs": [],
   "source": [
    "def direct_kinematics(t1, t2, t3, t4, t5, t6):\n",
    "    # A01 -> Homogeneous transformation from base1 to base0\n",
    "    A0p = DH(0, 0.162, 0, 0)\n",
    "    A01 = DH(0, L1x, L1z, t1-pi/2)\n",
    "    A12 = DH(0, L2x, 0, t2)\n",
    "    A23 = DH(pi/2, 0, 0, t3 + pi/2)       # pi/2 increment gives initial position\n",
    "    A34 = DH(0, L4x, 0, t4 - pi/2 + rho)  # pi/2 decrease gives initial position\n",
    "    A45 = DH(-pi/2, L5x, 0, t5 - rho)\n",
    "    A56 = DH(pi/2, 0, L6x, t6 - pi/2)     # pi/2 decrease gives initial position\n",
    "\n",
    "    # Matrix compositions\n",
    "    A00 = A0p.dot(A01)\n",
    "    A02 = A00.dot(A12)\n",
    "    A03 = A02.dot(A23)\n",
    "    A04 = A03.dot(A34)\n",
    "    A05 = A04.dot(A45)\n",
    "    A06 = A05.dot(A56)\n",
    "    A06 = A06.dot(DH(0,0,0,pi/2))\n",
    "\n",
    "    # End effector coordinates\n",
    "    x6 = A06[0, 3]\n",
    "    y6 = A06[1, 3]\n",
    "    z6 = A06[2, 3]\n",
    "    yaw6 = t6\n",
    "    pitch6 = -t4 - t5\n",
    "    roll6 = t1 + t2 + t3\n",
    "\n",
    "    # yaw6 = round(atan2(A06[2,1], A06[2,2]), tol)\n",
    "    # pitch6 = round(atan2(-A06[2,0], sqrt(1 - A06[2,0]**2)), tol)\n",
    "    # roll6 = round(atan2(A06[1,0], A06[0,0]), tol)\n",
    "    \n",
    "    return round(x6,4), round(y6,4), round(z6,4), round(yaw6,4), round(pitch6,4), round(roll6,4)"
   ]
  },
  {
   "cell_type": "code",
   "execution_count": 24,
   "metadata": {
    "collapsed": false
   },
   "outputs": [
    {
     "data": {
      "text/plain": [
       "(0.622, -0.3345, 1.0, 0.0, -0.0, 0.0)"
      ]
     },
     "execution_count": 24,
     "metadata": {},
     "output_type": "execute_result"
    }
   ],
   "source": [
    "direct_kinematics(0.0, 0.0, 0.0, 0.0, 0.0, 0.0)"
   ]
  },
  {
   "cell_type": "markdown",
   "metadata": {},
   "source": [
    "## Inverse Kinematics"
   ]
  },
  {
   "cell_type": "code",
   "execution_count": 7,
   "metadata": {
    "collapsed": false
   },
   "outputs": [],
   "source": [
    "def inverse_kinematics(x, y, z, yaw, pitch, roll):\n",
    "    i = 1\n",
    "    tol = 0.001\n",
    "    solution = []\n",
    "    \n",
    "    for j1 in range(2):\n",
    "        for j2 in range(2):\n",
    "            for j3 in range(2):\n",
    "                try:\n",
    "                    # robot dimensions\n",
    "                    h = L1z\n",
    "                    e = 0.16\n",
    "                    l1 = L1x\n",
    "                    l2 = L2x\n",
    "                    l4 = L4x\n",
    "                    l5 = L5x\n",
    "                    l6 = L6x\n",
    "\n",
    "                    # theta6 computation\n",
    "                    t6 = rad_limit(yaw)\n",
    "\n",
    "                    # theta4 calculation\n",
    "                    c4 = (1/l4)*(h - z - l5*cos(-pitch) + l6*sin(-pitch))\n",
    "                    s4 = ((-1)**j1)*sqrt(1 - c4**2)\n",
    "                    t4 = rad_limit(atan2(s4, c4) - rho)\n",
    "                    if not max4 > t4 > min4:\n",
    "                        i += 1\n",
    "                        continue\n",
    "\n",
    "                    # theta5 calculation\n",
    "                    t5 = rad_limit(-pitch - t4)\n",
    "                    if not max5 > t5 > min5:\n",
    "                        i += 1\n",
    "                        continue\n",
    "\n",
    "                    # theta1 calculation\n",
    "                    l3 = l4*sin(t4 + rho) + l5*sin(t4 + t5) + l6*cos(t4 + t5)\n",
    "\n",
    "\n",
    "                    xp = x - e - l3*cos(roll)\n",
    "                    yp = -y + l3*sin(roll)\n",
    "                    a = 2 * yp * l1\n",
    "                    b = 2 * xp * l1\n",
    "                    c = xp**2 + yp**2 + l1**2 - l2**2\n",
    "\n",
    "                    c1 = (2*a*c - ((-1)**j2)*(sqrt(round((2*a*c)**2 - 4*(a**2 + b**2)*(c**2 - b**2),8)))) / (2*(a**2 + b**2)) \n",
    "                    s1 = ((-1)**j3)*sqrt(round(1 - c1**2,8))\n",
    "                    t1 = rad_limit(atan2(s1, c1))\n",
    "                    if not max1 > t1 > min1:\n",
    "                        i += 1\n",
    "                        continue\n",
    "\n",
    "\n",
    "                    # theta2 calculation\n",
    "                    t12 = atan2(xp - l1*s1, yp - l1*c1)\n",
    "                    t2 = rad_limit(t12 - t1)\n",
    "                    if not max2 > t2 > min2:\n",
    "                        i += 1\n",
    "                        continue\n",
    "\n",
    "                    #theta3 calculation\n",
    "                    t3 = rad_limit(roll - t1 - t2)\n",
    "                    if not max3 > t3 > min3:\n",
    "                        i += 1\n",
    "                        continue\n",
    "\n",
    "                    signs = (j1, j2, j3)\n",
    "\n",
    "                    # merge solution, obtain direct kinematics and test if it match the input\n",
    "                    current_sol = (round(t1,5),round(t2,5),round(t3,5),round(t4,5),round(t5,5),round(t6,5))\n",
    "                    dk = direct_kinematics(*current_sol)\n",
    "                    test = (round(x,4), round(y,4), round(z,4), round(yaw,4), round(pitch,4), round(roll,4))\n",
    "                    \n",
    "                    if abs(dk[0]-test[0]) <= tol:\n",
    "                        if abs(dk[1]-test[1]) <= tol:\n",
    "                            if abs(dk[2]-test[2]) <= tol:\n",
    "                                if abs(dk[3]-test[3]) <= tol:\n",
    "                                    if abs(dk[4]-test[4]) <= tol:\n",
    "                                        solution.append(current_sol)\n",
    "                                        print 'sol', i, '|', signs, '|', current_sol\n",
    "                    \n",
    "\n",
    "                except ValueError:\n",
    "                    pass\n",
    "                    # print 'sol', i, '| Complex solution'\n",
    "                i += 1\n",
    "    return(solution)\n",
    "\n",
    "\n",
    "def ik_position(x, y, z):\n",
    "    roll = 0.0\n",
    "    pitch = 0.0\n",
    "    yaw = 0.0\n",
    "    inc_roll = 0.01    # 0.01rad = 0.57°\n",
    "    inc_pitch = 0.01   # 0.035rad = 2.01°\n",
    "    sweep_roll = 200\n",
    "    sweep_pitch = 200\n",
    "    count = 0\n",
    "    \n",
    "    for i in range(sweep_pitch):\n",
    "        for m in range(2):\n",
    "            if pitch == 0.0 and m == 1:\n",
    "                count += sweep_roll*2\n",
    "                continue\n",
    "            pitch *= (-1)**m\n",
    "            roll = 0.0\n",
    "            for j in range(sweep_roll):\n",
    "                for n in range(2):\n",
    "                    if roll == 0.0 and n == 1:\n",
    "                        count += 1\n",
    "                        continue\n",
    "                    roll *= (-1)**n\n",
    "                    ik_sol = inverse_kinematics(x, y, z, yaw, pitch, roll)\n",
    "                    if ik_sol:\n",
    "                        print 'Solucion encontrada en', count, 'iteraciones:'\n",
    "                        print 'pitch=', pitch, ' roll=', roll\n",
    "                        return ik_sol\n",
    "                    count += 1\n",
    "                roll = abs(roll) + inc_roll\n",
    "        pitch = abs(pitch) + inc_pitch\n",
    "            \n",
    "    print 'Realize', count, 'intentos'\n",
    "    print 'pitch=', pitch, ' roll=', roll\n",
    "    print 'No encontre solucion'"
   ]
  },
  {
   "cell_type": "markdown",
   "metadata": {},
   "source": [
    "## Test IK-Solver with random achievable poses\n",
    "\n",
    "### 1. Complete poses"
   ]
  },
  {
   "cell_type": "code",
   "execution_count": 7,
   "metadata": {
    "collapsed": false
   },
   "outputs": [],
   "source": [
    "test_poses = (\n",
    "    (0.6195, -0.3345, 0.999, 0.0, -0.0, 0.0),\n",
    "    (0.289494, -0.203055, 0.770291, 1.28374, 0.642519, 0.574161),\n",
    "    (0.193101, -0.756201, 0.787294, 0.256634, 2.10007, 1.69486),\n",
    "    (0.00181799, -0.225125, 0.683862, 1.45614, 1.1878, -1.36398),\n",
    "    (0.411147, 0.0101207, 1.26554, -0.597899, -0.648256, 0.802906),\n",
    "    (0.409809, -0.448014, 1.09518, 0.707728, -0.231727, -0.374332),\n",
    "    (0.466185, -0.130243, 1.60148, 0.0823142, -2.21298, 0.954328),\n",
    "    (0.309499, -0.668894, 1.29253, 0.570433, -0.162543, -0.849798),\n",
    "    (0.30153, -0.627121, 0.999872, -0.612758, -0.00473883, -0.847365),\n",
    "    (0.888224, -0.0840755, 1.30089, 0.119289, -0.661914, -0.276724),\n",
    "    (0.138319, 0.249358, 1.36836, 0.324044, -0.668612, 1.55722),\n",
    "    (-0.149422, 0.3129, 1.51683, -0.45265, -1.00145, 1.61987),\n",
    "    (0.0846913, 0.250386, 1.00359, -0.31827, 0.06491, 2.09892),\n",
    "    (0.612206, 0.0298623, 1.39926, -1.02951, -0.675845, 0.690788),\n",
    "    (0.214958, -0.415655, 1.58114, -0.46613, -1.28629, -0.589688),\n",
    "    (-0.079989, 0.174614, 1.0049, 0.152565, 0.496931, 2.51532),\n",
    "    (-0.526741, -0.510779, 1.5834, 0.0765846, -0.80368, -2.51171),\n",
    "    (0.479517, -0.267179, 1.20578, -1.21226, -0.440077, 0.104922),\n",
    "    (-0.139726, -0.160111, 0.647874, -0.347398, 1.82524, -0.823005),\n",
    "    (0.104979, 0.31731, 0.952133, 0.00393675, 0.100555, 2.4625),\n",
    "    (0.644334, 0.104331, 0.76273, -0.635215, 2.25523, 3.83891)\n",
    ")"
   ]
  },
  {
   "cell_type": "code",
   "execution_count": 8,
   "metadata": {
    "collapsed": false
   },
   "outputs": [
    {
     "name": "stdout",
     "output_type": "stream",
     "text": [
      "Prueba 16 \n",
      "\n",
      "sol 4 | (0, 1, 1) | (-0.30425, -0.94629, -1.26117, 1.4814, -0.67772, 0.07658)\n",
      "\n",
      "(-0.5268, -0.5108, 1.5834, 0.0766, -0.8037, -2.5117)\n"
     ]
    }
   ],
   "source": [
    "test, sol = 16, 1\n",
    "\n",
    "print 'Prueba', test, '\\n'\n",
    "ik = inverse_kinematics(*test_poses[test])\n",
    "if ik:\n",
    "    print '\\n', direct_kinematics(*ik[sol-1])\n",
    "else:\n",
    "    print 'Sin solución'"
   ]
  },
  {
   "cell_type": "code",
   "execution_count": 9,
   "metadata": {
    "collapsed": false
   },
   "outputs": [
    {
     "name": "stdout",
     "output_type": "stream",
     "text": [
      "sol 3 | (0, 1, 0) | (0.52436, 1.60138, -2.12594, 1.05853, 0.03238, 1.07656)\n",
      "CPU times: user 0 ns, sys: 0 ns, total: 0 ns\n",
      "Wall time: 622 µs\n",
      "\n",
      "(0.8625, 0.0056, 1.5509, 1.0766, -1.0909, -0.0002)\n"
     ]
    }
   ],
   "source": [
    "pose = (\n",
    "    0.862551918502,\n",
    "    0.00557360531441, \n",
    "    1.55093489162, \n",
    "    1.0765623286494468, \n",
    "    -1.0909102169733516, \n",
    "    -0.00019427155211242765\n",
    ")\n",
    "\n",
    "%time ik_test = inverse_kinematics(*pose)\n",
    "\n",
    "if ik_test:\n",
    "    print '\\n', direct_kinematics(*ik_test[0])\n",
    "else:\n",
    "    print 'Sin solución'"
   ]
  },
  {
   "cell_type": "code",
   "execution_count": 10,
   "metadata": {
    "collapsed": false
   },
   "outputs": [
    {
     "data": {
      "text/plain": [
       "(0.8625, 0.0056, 1.5509, 1.0766, -1.0909, -0.0002)"
      ]
     },
     "execution_count": 10,
     "metadata": {},
     "output_type": "execute_result"
    }
   ],
   "source": [
    "direct_kinematics(0.495589517934, 1.63729138962, -2.13307517911, 1.09311399439, 0.0)"
   ]
  },
  {
   "cell_type": "markdown",
   "metadata": {},
   "source": [
    "### 2. Poses without orientation"
   ]
  },
  {
   "cell_type": "code",
   "execution_count": 425,
   "metadata": {
    "collapsed": false
   },
   "outputs": [
    {
     "name": "stdout",
     "output_type": "stream",
     "text": [
      "sol 8 | (1, 1, 1) | (-0.9969, -0.65236, 0.20926, -0.31742, -0.83258, 0.0)\n",
      "Solucion encontrada en 92289 iteraciones:\n",
      "pitch= 1.15  roll= -1.44\n",
      "pitchd= 1.82524 rolld= -0.823005\n"
     ]
    }
   ],
   "source": [
    "pos = 18\n",
    "# pos = 16 no la encuentra\n",
    "position = (test_poses[pos][0], test_poses[pos][1], test_poses[pos][2])\n",
    "ikp = ik_position(*position)\n",
    "\n",
    "print 'pitchd=', test_poses[pos][4], 'rolld=', test_poses[pos][5]"
   ]
  },
  {
   "cell_type": "markdown",
   "metadata": {},
   "source": [
    "## Test IK-Function in ROS\n",
    "\n",
    "### Steps before running following code\n",
    "1. roscore\n",
    "2. roslaunch golem_description gazebo_sim.launch\n",
    "3. roslaunch golem_gazebo_control golem_control.launch"
   ]
  },
  {
   "cell_type": "code",
   "execution_count": 17,
   "metadata": {
    "collapsed": true
   },
   "outputs": [],
   "source": [
    "rp.init_node('golem_IK_test')"
   ]
  },
  {
   "cell_type": "code",
   "execution_count": 18,
   "metadata": {
    "collapsed": false
   },
   "outputs": [],
   "source": [
    "poses_dic = []\n",
    "motor_topic = []\n",
    "motor_pub = {}"
   ]
  },
  {
   "cell_type": "code",
   "execution_count": 19,
   "metadata": {
    "collapsed": false
   },
   "outputs": [],
   "source": [
    "global poses_dic\n",
    "global motor_topic\n",
    "global motor_pub\n",
    "\n",
    "motor_topic = rp.get_param('/golem/motor_topic_names')\n",
    "poses_dic = rp.get_param('/golem/poses')\n",
    "\n",
    "# Create a publisher for each topic\n",
    "for i in range(len(motor_topic)):\n",
    "    motor = sorted(motor_topic.keys())[i]\n",
    "    topic = motor_topic[motor]\n",
    "    publisher = rp.Publisher(topic, stdm.Float64, queue_size=10, latch=True)\n",
    "    # Each publisher is added to a dictionary\n",
    "    # so individual movements can be easily indicated.\n",
    "    motor_pub[motor] = publisher"
   ]
  },
  {
   "cell_type": "code",
   "execution_count": 20,
   "metadata": {
    "collapsed": false
   },
   "outputs": [],
   "source": [
    "def move_joint(motor, angle):\n",
    "    motor_pub[motor].publish(angle)\n",
    "    print 'Joint moved:  ', motor,'  Angle: ', str(angle)\n",
    "\n",
    "\n",
    "def robot_pose(pose):\n",
    "    print \"Moving motor to\", pose, \"pose...\"\n",
    "    m = poses_dic[pose]\n",
    "    for j in range(len(m)):\n",
    "        joint = sorted(m.keys())[j]\n",
    "        move_joint(joint, m[joint])\n",
    "\n",
    "def robot_dic_pose(dic):\n",
    "    print \"New pose received!\"\n",
    "    for j in range(len(dic)):\n",
    "        joint = sorted(dic.keys())[j]\n",
    "        move_joint(joint, dic[joint])\n",
    "        \n",
    "def IK_pose(t1, t2, t3, t4, t5, t6):\n",
    "    pose_dic = {\n",
    "        'm0': t1,\n",
    "        'm10': t2,\n",
    "        'm11': t3,\n",
    "        'm12': t4,\n",
    "        'm13': t5,\n",
    "        'm14': t6\n",
    "    }\n",
    "    return(pose_dic)  \n",
    "\n"
   ]
  },
  {
   "cell_type": "code",
   "execution_count": 21,
   "metadata": {
    "collapsed": false
   },
   "outputs": [
    {
     "name": "stdout",
     "output_type": "stream",
     "text": [
      "m0 : 0.1313\n",
      "m10 : 0.4842\n",
      "m11 : 1.986\n",
      "m12 : -1.4895\n",
      "m13 : -1.2776\n",
      "m14 : -0.3882\n"
     ]
    }
   ],
   "source": [
    "golem_pose = IK_pose(*ik9[2])\n",
    "for x in range(len(golem_pose)):\n",
    "    print sorted(golem_pose.keys())[x], ':', golem_pose[sorted(golem_pose.keys())[x]]"
   ]
  },
  {
   "cell_type": "code",
   "execution_count": 22,
   "metadata": {
    "collapsed": false
   },
   "outputs": [
    {
     "name": "stdout",
     "output_type": "stream",
     "text": [
      "New pose received!\n",
      "Joint moved:   m0   Angle:  0.1313\n",
      "Joint moved:   m10   Angle:  0.4842\n",
      "Joint moved:   m11   Angle:  1.986\n",
      "Joint moved:   m12   Angle:  -1.4895\n",
      "Joint moved:   m13   Angle:  -1.2776\n",
      "Joint moved:   m14   Angle:  -0.3882\n"
     ]
    }
   ],
   "source": [
    "robot_dic_pose(golem_pose)"
   ]
  },
  {
   "cell_type": "code",
   "execution_count": 23,
   "metadata": {
    "collapsed": false
   },
   "outputs": [
    {
     "name": "stdout",
     "output_type": "stream",
     "text": [
      "Moving motor to close_rgripper pose...\n",
      "Joint moved:   m15   Angle:  0.0\n",
      "Joint moved:   m17   Angle:  1.6\n"
     ]
    }
   ],
   "source": [
    "robot_pose('close_rgripper')"
   ]
  }
 ],
 "metadata": {
  "anaconda-cloud": {},
  "kernelspec": {
   "display_name": "Python 2",
   "language": "python",
   "name": "python2"
  },
  "language_info": {
   "codemirror_mode": {
    "name": "ipython",
    "version": 2
   },
   "file_extension": ".py",
   "mimetype": "text/x-python",
   "name": "python",
   "nbconvert_exporter": "python",
   "pygments_lexer": "ipython2",
   "version": "2.7.6"
  }
 },
 "nbformat": 4,
 "nbformat_minor": 0
}
