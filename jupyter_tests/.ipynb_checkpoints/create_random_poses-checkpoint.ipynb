{
 "cells": [
  {
   "cell_type": "markdown",
   "metadata": {},
   "source": [
    "# Create random IK test poses"
   ]
  },
  {
   "cell_type": "code",
   "execution_count": 1,
   "metadata": {
    "collapsed": true
   },
   "outputs": [],
   "source": [
    "import golem_left_arm_kinematics as gk\n",
    "import csv\n",
    "import random"
   ]
  },
  {
   "cell_type": "code",
   "execution_count": 2,
   "metadata": {
    "collapsed": false
   },
   "outputs": [],
   "source": [
    "pose_list = []\n",
    "\n",
    "for i in range(100):\n",
    "    th1 = round(random.uniform(gk.min_th1, gk.max_th1),6)\n",
    "    th2 = round(random.uniform(gk.min_th2, gk.max_th2),6)\n",
    "    th3 = round(random.uniform(gk.min_th3, gk.max_th3),6)\n",
    "    th4 = round(random.uniform(gk.min_th4, gk.max_th4),6)\n",
    "    th5 = round(random.uniform(gk.min_th5, gk.max_th5),6)\n",
    "    th6 = round(random.uniform(gk.min_th6, gk.max_th6),6)\n",
    "    \n",
    "    fk = gk.forward_kinematics(th1, th2, th3, th4, th5, th6)\n",
    "    \n",
    "    pose_list.append(fk)"
   ]
  },
  {
   "cell_type": "code",
   "execution_count": 3,
   "metadata": {
    "collapsed": false
   },
   "outputs": [],
   "source": [
    "csv_file = open('ik_test_poses/left_arm_test_poses(1000).csv', 'wb')\n",
    "writer = csv.writer(csv_file, delimiter=',', quoting=csv.QUOTE_NONE)\n",
    "\n",
    "for pose in pose_list:\n",
    "    writer.writerow(pose)\n",
    "    \n",
    "csv_file.close()"
   ]
  },
  {
   "cell_type": "code",
   "execution_count": null,
   "metadata": {
    "collapsed": true
   },
   "outputs": [],
   "source": []
  }
 ],
 "metadata": {
  "anaconda-cloud": {},
  "kernelspec": {
   "display_name": "Python 2",
   "language": "python",
   "name": "python2"
  },
  "language_info": {
   "codemirror_mode": {
    "name": "ipython",
    "version": 2
   },
   "file_extension": ".py",
   "mimetype": "text/x-python",
   "name": "python",
   "nbconvert_exporter": "python",
   "pygments_lexer": "ipython2",
   "version": "2.7.6"
  }
 },
 "nbformat": 4,
 "nbformat_minor": 0
}
