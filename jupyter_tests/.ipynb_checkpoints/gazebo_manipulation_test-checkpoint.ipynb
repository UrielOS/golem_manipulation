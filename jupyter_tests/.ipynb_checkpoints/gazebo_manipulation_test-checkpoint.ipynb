{
 "cells": [
  {
   "cell_type": "markdown",
   "metadata": {},
   "source": [
    "# Gazebo Manipulation test\n",
    "NOTE: **\"golem_kinematics/manipualtion_node\"** must be started"
   ]
  },
  {
   "cell_type": "code",
   "execution_count": 2,
   "metadata": {
    "collapsed": false
   },
   "outputs": [],
   "source": [
    "import rospy\n",
    "import golem_kinematics.srv as gk_srv\n",
    "import std_srvs.srv"
   ]
  },
  {
   "cell_type": "code",
   "execution_count": 3,
   "metadata": {
    "collapsed": true
   },
   "outputs": [],
   "source": [
    "rospy.init_node('pruebas_milochomil')\n",
    "compute_fk = rospy.ServiceProxy('/golem_kinematics/right_arm/compute_fk', gk_srv.ForwardKinematics)\n",
    "compute_ik = rospy.ServiceProxy('/golem_kinematics/right_arm/compute_ik', gk_srv.InverseKinematics)\n",
    "\n",
    "right_arm_js = rospy.ServiceProxy('/golem_kinematics/right_arm/set_joint_state', gk_srv.JointState)\n",
    "left_arm_js = rospy.ServiceProxy('/golem_kinematics/left_arm/set_joint_state', gk_srv.JointState)\n",
    "\n",
    "right_arm_m2p = rospy.ServiceProxy('/golem_kinematics/right_arm/move_to_pose', gk_srv.MoveToPose)\n",
    "\n",
    "right_eef_js = rospy.ServiceProxy('/golem_kinematics/right_eef/set_joint_state', gk_srv.JointState)\n",
    "left_eef_js = rospy.ServiceProxy('/golem_kinematics/left_eef/set_joint_state', gk_srv.JointState)"
   ]
  },
  {
   "cell_type": "markdown",
   "metadata": {},
   "source": [
    "## 1. Joint state service\n",
    "### RIGHT ARM"
   ]
  },
  {
   "cell_type": "code",
   "execution_count": null,
   "metadata": {
    "collapsed": false,
    "scrolled": true
   },
   "outputs": [],
   "source": [
    "req1 = gk_srv.JointStateRequest()\n",
    "req1.joint_state.position = [0.0, 0.0, 0.0, 0.0, 0.0, 0.0]\n",
    "# req1.joint_state.position = [0.0, 0.5, -0.5, 0.0, 1.5, 0.0]\n",
    "# req1.joint_state.position = [-0.3, 0.0, -0.7, 0.5, -0.6, 0.0]\n",
    "right_arm_js(req1)"
   ]
  },
  {
   "cell_type": "markdown",
   "metadata": {},
   "source": [
    "### LEFT ARM"
   ]
  },
  {
   "cell_type": "code",
   "execution_count": null,
   "metadata": {
    "collapsed": false
   },
   "outputs": [],
   "source": [
    "req2 = gk_srv.JointStateRequest()\n",
    "req2.joint_state.position = [-0.5, -0.5, 0.5, -1.5, 0.0]\n",
    "left_arm_js(req2)"
   ]
  },
  {
   "cell_type": "markdown",
   "metadata": {},
   "source": [
    "## 2. Forward and Inverse kinematics services\n",
    "### FORWARD KINEMATICS"
   ]
  },
  {
   "cell_type": "code",
   "execution_count": null,
   "metadata": {
    "collapsed": false
   },
   "outputs": [],
   "source": [
    "req2 = gk_srv.ForwardKinematicsRequest()\n",
    "req2.joint_state.position = [-0.3, 0.0, -0.7, 0.5, -0.6, 0.0]\n",
    "compute_fk(req2)"
   ]
  },
  {
   "cell_type": "markdown",
   "metadata": {},
   "source": [
    "### 6DOF INVERSE KINEMATICS"
   ]
  },
  {
   "cell_type": "code",
   "execution_count": null,
   "metadata": {
    "collapsed": false
   },
   "outputs": [],
   "source": [
    "req3 = gk_srv.InverseKinematicsRequest()\n",
    "req3.only_pos = False\n",
    "req3.position.x = 1.0\n",
    "req3.position.y = -0.2\n",
    "req3.position.z = 1.2\n",
    "req3.orientation.x = 0.0\n",
    "req3.orientation.y = 0.0\n",
    "req3.orientation.z = 0.0\n",
    "compute_ik(req3)"
   ]
  },
  {
   "cell_type": "markdown",
   "metadata": {},
   "source": [
    "### 3DOF INVERSE KINEMATICS"
   ]
  },
  {
   "cell_type": "code",
   "execution_count": null,
   "metadata": {
    "collapsed": false
   },
   "outputs": [],
   "source": [
    "req4 = gk_srv.InverseKinematicsRequest()\n",
    "req4.only_pos = True\n",
    "req4.position.x = 1.0\n",
    "req4.position.y = 0.2\n",
    "req4.position.z = 1.0\n",
    "compute_ik(req4)"
   ]
  },
  {
   "cell_type": "markdown",
   "metadata": {},
   "source": [
    "## 3. Move to a certain pose service"
   ]
  },
  {
   "cell_type": "code",
   "execution_count": null,
   "metadata": {
    "collapsed": false
   },
   "outputs": [],
   "source": [
    "req5 = gk_srv.MoveToPoseRequest()\n",
    "req5.only_pos = True\n",
    "req5.position.x = 0.95\n",
    "req5.position.y = 0.2\n",
    "req5.position.z = 1.0\n",
    "req5.orientation.x = 0.0\n",
    "req5.orientation.y = 0.0\n",
    "req5.orientation.z = 0.0\n",
    "right_arm_m2p(req5)"
   ]
  },
  {
   "cell_type": "markdown",
   "metadata": {},
   "source": [
    "## 4. Final Test"
   ]
  },
  {
   "cell_type": "code",
   "execution_count": 52,
   "metadata": {
    "collapsed": false
   },
   "outputs": [
    {
     "data": {
      "text/plain": [
       "result: True"
      ]
     },
     "execution_count": 52,
     "metadata": {},
     "output_type": "execute_result"
    }
   ],
   "source": [
    "req1 = gk_srv.MoveToPoseRequest()\n",
    "req1.only_pos = True\n",
    "req1.position.x = 0.98\n",
    "req1.position.y = -0.2\n",
    "req1.position.z = 1.0\n",
    "req1.orientation.x = 0.0\n",
    "req1.orientation.y = 0.0\n",
    "req1.orientation.z = 0.0\n",
    "right_arm_m2p(req1)"
   ]
  },
  {
   "cell_type": "code",
   "execution_count": 53,
   "metadata": {
    "collapsed": false
   },
   "outputs": [
    {
     "data": {
      "text/plain": [
       "result: False"
      ]
     },
     "execution_count": 53,
     "metadata": {},
     "output_type": "execute_result"
    }
   ],
   "source": [
    "req2 = gk_srv.JointStateRequest()\n",
    "req2.joint_state.position = [0.0, 1.5]\n",
    "right_eef_js(req2)"
   ]
  },
  {
   "cell_type": "code",
   "execution_count": 54,
   "metadata": {
    "collapsed": false
   },
   "outputs": [
    {
     "data": {
      "text/plain": [
       "result: True"
      ]
     },
     "execution_count": 54,
     "metadata": {},
     "output_type": "execute_result"
    }
   ],
   "source": [
    "req3 = gk_srv.JointStateRequest()\n",
    "req3.joint_state.position = [0.0, 0.0, 0.0, 0.0, 0.0, 0.0]\n",
    "right_arm_js(req3)"
   ]
  },
  {
   "cell_type": "code",
   "execution_count": 55,
   "metadata": {
    "collapsed": false
   },
   "outputs": [
    {
     "data": {
      "text/plain": [
       "result: True"
      ]
     },
     "execution_count": 55,
     "metadata": {},
     "output_type": "execute_result"
    }
   ],
   "source": [
    "req4 = gk_srv.MoveToPoseRequest()\n",
    "req4.only_pos = True\n",
    "req4.position.x = 0.6\n",
    "req4.position.y = -0.75\n",
    "req4.position.z = 1.05\n",
    "req4.orientation.x = 0.0\n",
    "req4.orientation.y = 0.0\n",
    "req4.orientation.z = 0.0\n",
    "right_arm_m2p(req4)"
   ]
  },
  {
   "cell_type": "code",
   "execution_count": 56,
   "metadata": {
    "collapsed": false
   },
   "outputs": [
    {
     "data": {
      "text/plain": [
       "result: False"
      ]
     },
     "execution_count": 56,
     "metadata": {},
     "output_type": "execute_result"
    }
   ],
   "source": [
    "req4 = gk_srv.JointStateRequest()\n",
    "req4.joint_state.position = [1.5, 0.0]\n",
    "right_eef_js(req4)"
   ]
  },
  {
   "cell_type": "code",
   "execution_count": 57,
   "metadata": {
    "collapsed": false
   },
   "outputs": [
    {
     "data": {
      "text/plain": [
       "result: True"
      ]
     },
     "execution_count": 57,
     "metadata": {},
     "output_type": "execute_result"
    }
   ],
   "source": [
    "req3 = gk_srv.JointStateRequest()\n",
    "req3.joint_state.position = [0.0, 0.0, 0.0, 0.0, 0.0, 0.0]\n",
    "right_arm_js(req3)"
   ]
  },
  {
   "cell_type": "code",
   "execution_count": 59,
   "metadata": {
    "collapsed": false
   },
   "outputs": [
    {
     "data": {
      "text/plain": [
       "result: True"
      ]
     },
     "execution_count": 59,
     "metadata": {},
     "output_type": "execute_result"
    }
   ],
   "source": [
    "req1 = gk_srv.MoveToPoseRequest()\n",
    "req1.only_pos = True\n",
    "req1.position.x = 0.98\n",
    "req1.position.y = -0.2\n",
    "req1.position.z = 1.3\n",
    "req1.orientation.x = 0.0\n",
    "req1.orientation.y = 0.0\n",
    "req1.orientation.z = 0.0\n",
    "right_arm_m2p(req1)"
   ]
  },
  {
   "cell_type": "code",
   "execution_count": 60,
   "metadata": {
    "collapsed": false
   },
   "outputs": [
    {
     "data": {
      "text/plain": [
       "result: False"
      ]
     },
     "execution_count": 60,
     "metadata": {},
     "output_type": "execute_result"
    }
   ],
   "source": [
    "req2 = gk_srv.JointStateRequest()\n",
    "req2.joint_state.position = [0.0, 1.5]\n",
    "right_eef_js(req2)"
   ]
  },
  {
   "cell_type": "code",
   "execution_count": 61,
   "metadata": {
    "collapsed": false
   },
   "outputs": [
    {
     "data": {
      "text/plain": [
       "result: True"
      ]
     },
     "execution_count": 61,
     "metadata": {},
     "output_type": "execute_result"
    }
   ],
   "source": [
    "req1 = gk_srv.MoveToPoseRequest()\n",
    "req1.only_pos = True\n",
    "req1.position.x = 0.6\n",
    "req1.position.y = -0.75\n",
    "req1.position.z = 1.3\n",
    "req1.orientation.x = 0.0\n",
    "req1.orientation.y = 0.0\n",
    "req1.orientation.z = 0.0\n",
    "right_arm_m2p(req1)"
   ]
  },
  {
   "cell_type": "code",
   "execution_count": 62,
   "metadata": {
    "collapsed": false
   },
   "outputs": [
    {
     "data": {
      "text/plain": [
       "result: False"
      ]
     },
     "execution_count": 62,
     "metadata": {},
     "output_type": "execute_result"
    }
   ],
   "source": [
    "req4 = gk_srv.JointStateRequest()\n",
    "req4.joint_state.position = [1.5, 0.0]\n",
    "right_eef_js(req4)"
   ]
  },
  {
   "cell_type": "code",
   "execution_count": 63,
   "metadata": {
    "collapsed": false
   },
   "outputs": [
    {
     "data": {
      "text/plain": [
       "result: True"
      ]
     },
     "execution_count": 63,
     "metadata": {},
     "output_type": "execute_result"
    }
   ],
   "source": [
    "req3 = gk_srv.JointStateRequest()\n",
    "req3.joint_state.position = [0.0, 0.0, 0.0, 0.0, 0.0, 0.0]\n",
    "right_arm_js(req3)"
   ]
  },
  {
   "cell_type": "code",
   "execution_count": null,
   "metadata": {
    "collapsed": true
   },
   "outputs": [],
   "source": []
  }
 ],
 "metadata": {
  "anaconda-cloud": {},
  "kernelspec": {
   "display_name": "Python 2",
   "language": "python",
   "name": "python2"
  },
  "language_info": {
   "codemirror_mode": {
    "name": "ipython",
    "version": 2
   },
   "file_extension": ".py",
   "mimetype": "text/x-python",
   "name": "python",
   "nbconvert_exporter": "python",
   "pygments_lexer": "ipython2",
   "version": "2.7.6"
  }
 },
 "nbformat": 4,
 "nbformat_minor": 0
}
