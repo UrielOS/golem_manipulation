{
 "cells": [
  {
   "cell_type": "code",
   "execution_count": 1,
   "metadata": {
    "collapsed": false
   },
   "outputs": [
    {
     "name": "stdout",
     "output_type": "stream",
     "text": [
      "Plan solution found in 1 attempts!\n",
      "Plan solution found in 1 attempts!\n",
      "Opening gripper:  right_eef \n",
      "\n",
      "Plan solution found in 1 attempts!\n",
      "Plan solution found in 1 attempts!\n",
      "Opening gripper:  left_eef \n",
      "\n"
     ]
    }
   ],
   "source": [
    "import sys\n",
    "import rospy as rp\n",
    "import manipulation_node\n",
    "import moveit_commander\n",
    "import geometry_msgs.msg\n",
    "\n",
    "rp.init_node('pruebas_mani_node')\n",
    "moveit_commander.roscpp_initialize(sys.argv)\n",
    "\n",
    "robot = moveit_commander.RobotCommander()\n",
    "scene = moveit_commander.PlanningSceneInterface()\n",
    "\n",
    "right_arm = manipulation_node.Arm('right_arm')\n",
    "right_arm.eef = manipulation_node.Gripper('right_eef')\n",
    "\n",
    "left_arm = manipulation_node.Arm('left_arm')\n",
    "left_arm.eef = manipulation_node.Gripper('left_eef')\n",
    "\n",
    "right_arm.move_to_joint_state([0.0, 0.0, 0.0, 0.0, 0.0, 0.0])\n",
    "right_arm.eef.open_gripper()\n",
    "\n",
    "left_arm.move_to_joint_state([0.0, 0.0, 0.0, 0.0, 0.0])\n",
    "left_arm.eef.open_gripper()"
   ]
  },
  {
   "cell_type": "code",
   "execution_count": null,
   "metadata": {
    "collapsed": true
   },
   "outputs": [],
   "source": []
  }
 ],
 "metadata": {
  "kernelspec": {
   "display_name": "Python 2",
   "language": "python",
   "name": "python2"
  },
  "language_info": {
   "codemirror_mode": {
    "name": "ipython",
    "version": 2
   },
   "file_extension": ".py",
   "mimetype": "text/x-python",
   "name": "python",
   "nbconvert_exporter": "python",
   "pygments_lexer": "ipython2",
   "version": "2.7.6"
  }
 },
 "nbformat": 4,
 "nbformat_minor": 0
}
