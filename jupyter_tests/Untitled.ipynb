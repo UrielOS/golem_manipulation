{
 "cells": [
  {
   "cell_type": "code",
   "execution_count": 1,
   "metadata": {
    "collapsed": false
   },
   "outputs": [
    {
     "name": "stdout",
     "output_type": "stream",
     "text": [
      "Plan solution found in 1 attempts!\n",
      "Plan solution found in 1 attempts!\n",
      "Opening gripper:  right_eef \n",
      "\n",
      "Plan solution found in 1 attempts!\n",
      "Plan solution found in 1 attempts!\n",
      "Opening gripper:  left_eef \n",
      "\n"
     ]
    }
   ],
   "source": [
    "import sys\n",
    "import rospy as rp\n",
    "import manipulation_node\n",
    "import moveit_commander\n",
    "import geometry_msgs.msg\n",
    "\n",
    "rp.init_node('pruebas_mani_node')\n",
    "moveit_commander.roscpp_initialize(sys.argv)\n",
    "\n",
    "robot = moveit_commander.RobotCommander()\n",
    "scene = moveit_commander.PlanningSceneInterface()\n",
    "\n",
    "right_arm = manipulation_node.Arm('right_arm')\n",
    "right_eef = manipulation_node.Gripper('right_eef')\n",
    "\n",
    "left_arm = manipulation_node.Arm('left_arm')\n",
    "left_eef = manipulation_node.Gripper('left_eef')\n",
    "\n",
    "right_arm.move_to_joint_state([0.0, 0.0, 0.0, 0.0, 0.0, 0.0])\n",
    "right_eef.open_gripper()\n",
    "\n",
    "left_arm.move_to_joint_state([0.0, 0.0, 0.0, 0.0, 0.0])\n",
    "left_eef.open_gripper()"
   ]
  },
  {
   "cell_type": "code",
   "execution_count": 22,
   "metadata": {
    "collapsed": false
   },
   "outputs": [],
   "source": [
    "coke_pose1 = geometry_msgs.msg.PoseStamped()\n",
    "coke_pose1.header.frame_id = robot.get_planning_frame()\n",
    "coke_pose1.pose.position.x = 1.0\n",
    "coke_pose1.pose.position.y = 0.2\n",
    "coke_pose1.pose.position.z = 1.35\n",
    "coke_size1 = (0.14, 0.14, 0.28)\n",
    "\n",
    "coke_pose2 = geometry_msgs.msg.PoseStamped()\n",
    "coke_pose2.header.frame_id = robot.get_planning_frame()\n",
    "coke_pose2.pose.position.x = 1.0\n",
    "coke_pose2.pose.position.y = -0.2\n",
    "coke_pose2.pose.position.z = 1.35\n",
    "coke_size2 = (0.14, 0.14, 0.28)\n",
    "\n",
    "coke_pose3 = geometry_msgs.msg.PoseStamped()\n",
    "coke_pose3.header.frame_id = robot.get_planning_frame()\n",
    "coke_pose3.pose.position.x = 1.0\n",
    "coke_pose3.pose.position.y = 0.2\n",
    "coke_pose3.pose.position.z = 0.96\n",
    "coke_size3 = (0.14, 0.14, 0.28)\n",
    "\n",
    "coke_pose4 = geometry_msgs.msg.PoseStamped()\n",
    "coke_pose4.header.frame_id = robot.get_planning_frame()\n",
    "coke_pose4.pose.position.x = 1.0\n",
    "coke_pose4.pose.position.y = -0.2\n",
    "coke_pose4.pose.position.z = 0.96\n",
    "coke_size4 = (0.14, 0.14, 0.28)\n",
    "\n",
    "scene.add_box('coke_01', coke_pose1, coke_size1)\n",
    "scene.add_box('coke_02', coke_pose2, coke_size2)\n",
    "scene.add_box('coke_03', coke_pose3, coke_size3)\n",
    "scene.add_box('coke_04', coke_pose4, coke_size4)"
   ]
  },
  {
   "cell_type": "code",
   "execution_count": null,
   "metadata": {
    "collapsed": false
   },
   "outputs": [],
   "source": [
    "scene.get_known_object_names()"
   ]
  },
  {
   "cell_type": "code",
   "execution_count": 23,
   "metadata": {
    "collapsed": false
   },
   "outputs": [
    {
     "name": "stdout",
     "output_type": "stream",
     "text": [
      "sol 3 | (0, 1, 0) | (0.816988, 0.173936, -0.990924, 0.429751, -0.549751, 0.0)\n",
      "Solution was found in 24 iterations:\n",
      "pitch= 0.12  roll= 0.0\n",
      "[0.816988, 0.173936, -0.990924, 0.429751, -0.549751, 0.0]\n",
      "Plan solution found in 1 attempts!\n",
      "True\n"
     ]
    },
    {
     "data": {
      "text/plain": [
       "True"
      ]
     },
     "execution_count": 23,
     "metadata": {},
     "output_type": "execute_result"
    }
   ],
   "source": [
    "right_arm.move_to_pose(0.98, -0.2, 1.0)"
   ]
  },
  {
   "cell_type": "code",
   "execution_count": 24,
   "metadata": {
    "collapsed": false
   },
   "outputs": [
    {
     "name": "stdout",
     "output_type": "stream",
     "text": [
      "Plan solution found in 1 attempts!\n",
      "Closing gripper:  right_eef \n",
      "\n"
     ]
    }
   ],
   "source": [
    "right_eef.move_group.attach_object('coke_04', 'r_wrist', ['r_gripper_m15', 'r_gripper_m17'])\n",
    "right_eef.close_gripper()"
   ]
  },
  {
   "cell_type": "code",
   "execution_count": 25,
   "metadata": {
    "collapsed": false
   },
   "outputs": [
    {
     "name": "stdout",
     "output_type": "stream",
     "text": [
      "sol 1 | (0, 0, 0) | (0.097561, -0.194407, -0.653154, 0.828661, -1.018661, 0.0)\n",
      "sol 2 | (0, 0, 1) | (-0.097561, 0.112993, -0.765432, 0.828661, -1.018661, 0.0)\n",
      "sol 3 | (0, 1, 0) | (0.045694, -0.112993, -0.682701, 0.828661, -1.018661, 0.0)\n",
      "sol 4 | (0, 1, 1) | (-0.045694, 0.031203, -0.735509, 0.828661, -1.018661, 0.0)\n",
      "Solution was found in 90638 iterations:\n",
      "pitch= 0.19  roll= -0.75\n",
      "[0.097561, -0.194407, -0.653154, 0.828661, -1.018661, 0.0]\n",
      "Plan solution found in 1 attempts!\n",
      "True\n"
     ]
    },
    {
     "data": {
      "text/plain": [
       "True"
      ]
     },
     "execution_count": 25,
     "metadata": {},
     "output_type": "execute_result"
    }
   ],
   "source": [
    "right_arm.move_to_pose(0.6, -0.75, 1.05)"
   ]
  },
  {
   "cell_type": "code",
   "execution_count": 26,
   "metadata": {
    "collapsed": false
   },
   "outputs": [
    {
     "name": "stdout",
     "output_type": "stream",
     "text": [
      "Plan solution found in 1 attempts!\n",
      "Opening gripper:  right_eef \n",
      "\n"
     ]
    },
    {
     "data": {
      "text/plain": [
       "True"
      ]
     },
     "execution_count": 26,
     "metadata": {},
     "output_type": "execute_result"
    }
   ],
   "source": [
    "right_eef.open_gripper()\n",
    "right_eef.move_group.detach_object('coke_04')"
   ]
  },
  {
   "cell_type": "code",
   "execution_count": 27,
   "metadata": {
    "collapsed": false
   },
   "outputs": [
    {
     "name": "stdout",
     "output_type": "stream",
     "text": [
      "Plan solution found in 1 attempts!\n"
     ]
    },
    {
     "data": {
      "text/plain": [
       "True"
      ]
     },
     "execution_count": 27,
     "metadata": {},
     "output_type": "execute_result"
    }
   ],
   "source": [
    "right_arm.move_to_joint_state([0.0, 0.0, 0.0, 0.0, 0.0, 0.0])"
   ]
  },
  {
   "cell_type": "code",
   "execution_count": 28,
   "metadata": {
    "collapsed": false
   },
   "outputs": [
    {
     "name": "stdout",
     "output_type": "stream",
     "text": [
      "sol 4 | (0, 1, 1) | (-0.238402, 1.417337, -1.178935, 1.5348, -1.5348, 0.0)\n",
      "Solution was found in 0 iterations:\n",
      "pitch= 0.0  roll= 0.0\n",
      "[-0.238402, 1.417337, -1.178935, 1.5348, -1.5348, 0.0]\n",
      "Plan solution found in 1 attempts!\n",
      "True\n"
     ]
    },
    {
     "data": {
      "text/plain": [
       "True"
      ]
     },
     "execution_count": 28,
     "metadata": {},
     "output_type": "execute_result"
    }
   ],
   "source": [
    "right_arm.move_to_pose(0.98, -0.2, 1.3)"
   ]
  },
  {
   "cell_type": "code",
   "execution_count": 29,
   "metadata": {
    "collapsed": false
   },
   "outputs": [
    {
     "name": "stdout",
     "output_type": "stream",
     "text": [
      "Plan solution found in 1 attempts!\n",
      "Closing gripper:  right_eef \n",
      "\n"
     ]
    }
   ],
   "source": [
    "right_eef.move_group.attach_object('coke_02', 'r_wrist', ['r_gripper_m15', 'r_gripper_m17'])\n",
    "right_eef.close_gripper()"
   ]
  },
  {
   "cell_type": "code",
   "execution_count": 30,
   "metadata": {
    "collapsed": false
   },
   "outputs": [
    {
     "name": "stdout",
     "output_type": "stream",
     "text": [
      "Plan solution found in 1 attempts!\n"
     ]
    },
    {
     "data": {
      "text/plain": [
       "True"
      ]
     },
     "execution_count": 30,
     "metadata": {},
     "output_type": "execute_result"
    }
   ],
   "source": [
    "right_arm.move_to_joint_state([0.0, 0.0, 0.0, 0.0, 0.0, 0.0])"
   ]
  },
  {
   "cell_type": "code",
   "execution_count": 32,
   "metadata": {
    "collapsed": false
   },
   "outputs": [
    {
     "name": "stdout",
     "output_type": "stream",
     "text": [
      "sol 2 | (0, 0, 1) | (-0.241688, 0.083777, -0.542089, 1.486908, -1.406908, 0.0)\n",
      "sol 4 | (0, 1, 1) | (-0.135484, -0.083777, -0.480739, 1.486908, -1.406908, 0.0)\n",
      "Solution was found in 84617 iterations:\n",
      "pitch= -0.08  roll= -0.7\n",
      "[-0.241688, 0.083777, -0.542089, 1.486908, -1.406908, 0.0]\n",
      "Plan solution found in 1 attempts!\n",
      "True\n"
     ]
    },
    {
     "data": {
      "text/plain": [
       "True"
      ]
     },
     "execution_count": 32,
     "metadata": {},
     "output_type": "execute_result"
    }
   ],
   "source": [
    "right_arm.move_to_pose(0.6, -0.75, 1.32)"
   ]
  },
  {
   "cell_type": "code",
   "execution_count": 33,
   "metadata": {
    "collapsed": false
   },
   "outputs": [
    {
     "name": "stdout",
     "output_type": "stream",
     "text": [
      "Plan solution found in 1 attempts!\n",
      "Opening gripper:  right_eef \n",
      "\n"
     ]
    },
    {
     "data": {
      "text/plain": [
       "True"
      ]
     },
     "execution_count": 33,
     "metadata": {},
     "output_type": "execute_result"
    }
   ],
   "source": [
    "right_eef.open_gripper()\n",
    "right_eef.move_group.detach_object('coke_02')"
   ]
  },
  {
   "cell_type": "code",
   "execution_count": 34,
   "metadata": {
    "collapsed": false
   },
   "outputs": [
    {
     "name": "stdout",
     "output_type": "stream",
     "text": [
      "Plan solution found in 1 attempts!\n"
     ]
    },
    {
     "data": {
      "text/plain": [
       "True"
      ]
     },
     "execution_count": 34,
     "metadata": {},
     "output_type": "execute_result"
    }
   ],
   "source": [
    "right_arm.move_to_joint_state([0.0, 0.0, 0.0, 0.0, 0.0, 0.0])"
   ]
  },
  {
   "cell_type": "code",
   "execution_count": 35,
   "metadata": {
    "collapsed": false
   },
   "outputs": [
    {
     "name": "stdout",
     "output_type": "stream",
     "text": [
      "sol 3 | (0, 1, 0) | (0.977977, 1.733735, -2.591712, 1.014822, -0.684822, 0.0)\n",
      "Solution was found in 14467 iterations:\n",
      "pitch= -0.33  roll= 0.12\n",
      "[0.977977, 1.733735, -2.591712, 1.014822, -0.684822, 0.0]\n",
      "Plan solution found in 1 attempts!\n",
      "True\n"
     ]
    },
    {
     "data": {
      "text/plain": [
       "True"
      ]
     },
     "execution_count": 35,
     "metadata": {},
     "output_type": "execute_result"
    }
   ],
   "source": [
    "right_arm.move_to_pose(0.98, 0.2, 1.3)"
   ]
  },
  {
   "cell_type": "code",
   "execution_count": 36,
   "metadata": {
    "collapsed": false
   },
   "outputs": [
    {
     "name": "stdout",
     "output_type": "stream",
     "text": [
      "Plan solution found in 1 attempts!\n",
      "Closing gripper:  right_eef \n",
      "\n"
     ]
    }
   ],
   "source": [
    "right_eef.move_group.attach_object('coke_01', 'r_wrist', ['r_gripper_m15', 'r_gripper_m17'])\n",
    "right_eef.close_gripper()"
   ]
  },
  {
   "cell_type": "code",
   "execution_count": 37,
   "metadata": {
    "collapsed": false
   },
   "outputs": [
    {
     "name": "stdout",
     "output_type": "stream",
     "text": [
      "sol 1 | (0, 0, 0) | (0.961468, -0.050136, -0.911331, 0.451083, -0.631083, 0.0)\n",
      "sol 3 | (0, 1, 0) | (0.897914, 0.050136, -0.94805, 0.451083, -0.631083, 0.0)\n",
      "Solution was found in 36 iterations:\n",
      "pitch= 0.18  roll= 0.0\n",
      "[0.961468, -0.050136, -0.911331, 0.451083, -0.631083, 0.0]\n",
      "Plan solution found in 1 attempts!\n",
      "True\n"
     ]
    },
    {
     "data": {
      "text/plain": [
       "True"
      ]
     },
     "execution_count": 37,
     "metadata": {},
     "output_type": "execute_result"
    }
   ],
   "source": [
    "right_arm.move_to_pose(0.98, -0.25, 0.98)"
   ]
  },
  {
   "cell_type": "code",
   "execution_count": 38,
   "metadata": {
    "collapsed": false
   },
   "outputs": [
    {
     "name": "stdout",
     "output_type": "stream",
     "text": [
      "Plan solution found in 1 attempts!\n",
      "Opening gripper:  right_eef \n",
      "\n"
     ]
    },
    {
     "data": {
      "text/plain": [
       "True"
      ]
     },
     "execution_count": 38,
     "metadata": {},
     "output_type": "execute_result"
    }
   ],
   "source": [
    "right_eef.open_gripper()\n",
    "right_eef.move_group.detach_object('coke_01')"
   ]
  },
  {
   "cell_type": "code",
   "execution_count": 39,
   "metadata": {
    "collapsed": false
   },
   "outputs": [
    {
     "name": "stdout",
     "output_type": "stream",
     "text": [
      "sol 3 | (0, 1, 0) | (0.997904, 1.402647, -2.210551, 0.784212, -1.134212, 0.0)\n",
      "Solution was found in 22870 iterations:\n",
      "pitch= 0.35  roll= 0.19\n",
      "[0.997904, 1.402647, -2.210551, 0.784212, -1.134212, 0.0]\n",
      "Plan solution found in 1 attempts!\n",
      "True\n"
     ]
    },
    {
     "data": {
      "text/plain": [
       "True"
      ]
     },
     "execution_count": 39,
     "metadata": {},
     "output_type": "execute_result"
    }
   ],
   "source": [
    "right_arm.move_to_pose(0.98, 0.2, 0.98)"
   ]
  },
  {
   "cell_type": "code",
   "execution_count": 40,
   "metadata": {
    "collapsed": false
   },
   "outputs": [
    {
     "name": "stdout",
     "output_type": "stream",
     "text": [
      "Plan solution found in 1 attempts!\n",
      "Closing gripper:  right_eef \n",
      "\n"
     ]
    }
   ],
   "source": [
    "right_eef.move_group.attach_object('coke_03', 'r_wrist', ['r_gripper_m15', 'r_gripper_m17'])\n",
    "right_eef.close_gripper()"
   ]
  },
  {
   "cell_type": "code",
   "execution_count": 41,
   "metadata": {
    "collapsed": false
   },
   "outputs": [
    {
     "name": "stdout",
     "output_type": "stream",
     "text": [
      "sol 4 | (0, 1, 1) | (-0.207622, 1.39081, -1.183188, 1.534726, -1.284726, 0.0)\n",
      "Solution was found in 51 iterations:\n",
      "pitch= -0.25  roll= 0.0\n",
      "[-0.207622, 1.39081, -1.183188, 1.534726, -1.284726, 0.0]\n",
      "Plan solution found in 5 attempts!\n",
      "True\n"
     ]
    },
    {
     "data": {
      "text/plain": [
       "True"
      ]
     },
     "execution_count": 41,
     "metadata": {},
     "output_type": "execute_result"
    }
   ],
   "source": [
    "right_arm.move_to_pose(0.98, -0.2, 1.4)"
   ]
  },
  {
   "cell_type": "code",
   "execution_count": 42,
   "metadata": {
    "collapsed": false
   },
   "outputs": [
    {
     "name": "stdout",
     "output_type": "stream",
     "text": [
      "Plan solution found in 1 attempts!\n",
      "Opening gripper:  right_eef \n",
      "\n"
     ]
    },
    {
     "data": {
      "text/plain": [
       "True"
      ]
     },
     "execution_count": 42,
     "metadata": {},
     "output_type": "execute_result"
    }
   ],
   "source": [
    "right_eef.open_gripper()\n",
    "right_eef.move_group.detach_object('coke_03')"
   ]
  },
  {
   "cell_type": "code",
   "execution_count": 43,
   "metadata": {
    "collapsed": false
   },
   "outputs": [
    {
     "name": "stdout",
     "output_type": "stream",
     "text": [
      "Plan solution found in 1 attempts!\n"
     ]
    },
    {
     "data": {
      "text/plain": [
       "True"
      ]
     },
     "execution_count": 43,
     "metadata": {},
     "output_type": "execute_result"
    }
   ],
   "source": [
    "right_arm.move_to_joint_state([0.0, 0.0, 0.0, 0.0, 0.0, 0.0])"
   ]
  },
  {
   "cell_type": "code",
   "execution_count": 44,
   "metadata": {
    "collapsed": false
   },
   "outputs": [
    {
     "name": "stdout",
     "output_type": "stream",
     "text": [
      "Plan solution found in 1 attempts!\n",
      "Closing gripper:  right_eef \n",
      "\n"
     ]
    }
   ],
   "source": [
    "right_eef.close_gripper()"
   ]
  },
  {
   "cell_type": "code",
   "execution_count": 46,
   "metadata": {
    "collapsed": false
   },
   "outputs": [
    {
     "name": "stdout",
     "output_type": "stream",
     "text": [
      "sol 2 | (0, 0, 1) | (-0.465461, 0.068936, -0.593475, 0.808333, -1.118333, 0.0)\n",
      "sol 4 | (0, 1, 1) | (-0.378074, -0.068936, -0.54299, 0.808333, -1.118333, 0.0)\n",
      "Solution was found in 119462 iterations:\n",
      "pitch= 0.31  roll= -0.99\n",
      "[-0.465461, 0.068936, -0.593475, 0.808333, -1.118333, 0.0]\n",
      "Plan solution found in 1 attempts!\n",
      "True\n"
     ]
    },
    {
     "data": {
      "text/plain": [
       "True"
      ]
     },
     "execution_count": 46,
     "metadata": {},
     "output_type": "execute_result"
    }
   ],
   "source": [
    "right_arm.move_to_pose(0.35, -0.8, 1.0)"
   ]
  },
  {
   "cell_type": "code",
   "execution_count": 47,
   "metadata": {
    "collapsed": false
   },
   "outputs": [
    {
     "name": "stdout",
     "output_type": "stream",
     "text": [
      "sol 2 | (0, 0, 1) | (-0.806976, 0.303926, -0.44695, 1.5348, -1.5348, 0.0)\n",
      "sol 4 | (0, 1, 1) | (-0.421145, -0.303926, -0.22493, 1.5348, -1.5348, 0.0)\n",
      "Solution was found in 114600 iterations:\n",
      "pitch= 0.0  roll= -0.95\n",
      "[-0.806976, 0.303926, -0.44695, 1.5348, -1.5348, 0.0]\n",
      "Plan solution found in 1 attempts!\n",
      "True\n"
     ]
    },
    {
     "data": {
      "text/plain": [
       "True"
      ]
     },
     "execution_count": 47,
     "metadata": {},
     "output_type": "execute_result"
    }
   ],
   "source": [
    "right_arm.move_to_pose(0.35, -0.8, 1.3)"
   ]
  },
  {
   "cell_type": "code",
   "execution_count": 48,
   "metadata": {
    "collapsed": false
   },
   "outputs": [
    {
     "name": "stdout",
     "output_type": "stream",
     "text": [
      "Plan solution found in 1 attempts!\n"
     ]
    },
    {
     "data": {
      "text/plain": [
       "True"
      ]
     },
     "execution_count": 48,
     "metadata": {},
     "output_type": "execute_result"
    }
   ],
   "source": [
    "right_arm.move_to_joint_state([0.0, 0.0, 0.0, 0.0, 0.0, 0.0])"
   ]
  },
  {
   "cell_type": "code",
   "execution_count": null,
   "metadata": {
    "collapsed": true
   },
   "outputs": [],
   "source": []
  }
 ],
 "metadata": {
  "kernelspec": {
   "display_name": "Python 2",
   "language": "python",
   "name": "python2"
  },
  "language_info": {
   "codemirror_mode": {
    "name": "ipython",
    "version": 2
   },
   "file_extension": ".py",
   "mimetype": "text/x-python",
   "name": "python",
   "nbconvert_exporter": "python",
   "pygments_lexer": "ipython2",
   "version": "2.7.6"
  }
 },
 "nbformat": 4,
 "nbformat_minor": 0
}
