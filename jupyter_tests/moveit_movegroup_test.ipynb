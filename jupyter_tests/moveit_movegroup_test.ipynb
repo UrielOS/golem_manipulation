{
 "cells": [
  {
   "cell_type": "code",
   "execution_count": 19,
   "metadata": {
    "collapsed": false
   },
   "outputs": [
    {
     "name": "stdout",
     "output_type": "stream",
     "text": [
      "============ STARTING MOVEIT SETUP =============\n",
      "============ Waiting for RVIZ... ============\n",
      "============= Starting move_group test =============\n",
      "\n"
     ]
    }
   ],
   "source": [
    "import sys\n",
    "import rospy\n",
    "import moveit_commander\n",
    "import moveit_msgs.msg\n",
    "import moveit_msgs.srv\n",
    "import geometry_msgs.msg\n",
    "\n",
    "print \"============ STARTING MOVEIT SETUP =============\"\n",
    "moveit_commander.roscpp_initialize(sys.argv)\n",
    "rospy.init_node('move_group_milochomil')\n",
    "\n",
    "robot = moveit_commander.RobotCommander()\n",
    "scene = moveit_commander.PlanningSceneInterface()\n",
    "\n",
    "right_arm = moveit_commander.MoveGroupCommander(\"right_arm\")\n",
    "right_eef = moveit_commander.MoveGroupCommander(\"right_eef\")\n",
    "\n",
    "# Publisher to display trajectories in Rviz.\n",
    "rviz_pub = rospy.Publisher('/move_group/display_planned_path', moveit_msgs.msg.DisplayTrajectory, queue_size=10)\n",
    "\n",
    "# Rviz must be opened manually:\n",
    "# roslaunch golem_moveit_config demo.launch\n",
    "print \"============ Waiting for RVIZ... ============\"\n",
    "print \"============= Starting move_group test =============\\n\""
   ]
  },
  {
   "cell_type": "code",
   "execution_count": 74,
   "metadata": {
    "collapsed": true
   },
   "outputs": [],
   "source": [
    "coke_pose1 = geometry_msgs.msg.PoseStamped()\n",
    "coke_pose1.header.frame_id = robot.get_planning_frame()\n",
    "coke_pose1.pose.position.x = 1.0\n",
    "coke_pose1.pose.position.y = 0.2\n",
    "coke_pose1.pose.position.z = 1.35\n",
    "coke_size1 = (0.14, 0.14, 0.28)\n",
    "\n",
    "coke_pose2 = geometry_msgs.msg.PoseStamped()\n",
    "coke_pose2.header.frame_id = robot.get_planning_frame()\n",
    "coke_pose2.pose.position.x = 1.0\n",
    "coke_pose2.pose.position.y = -0.2\n",
    "coke_pose2.pose.position.z = 1.35\n",
    "coke_size2 = (0.14, 0.14, 0.28)\n",
    "\n",
    "coke_pose3 = geometry_msgs.msg.PoseStamped()\n",
    "coke_pose3.header.frame_id = robot.get_planning_frame()\n",
    "coke_pose3.pose.position.x = 1.0\n",
    "coke_pose3.pose.position.y = 0.2\n",
    "coke_pose3.pose.position.z = 0.96\n",
    "coke_size3 = (0.14, 0.14, 0.28)\n",
    "\n",
    "coke_pose4 = geometry_msgs.msg.PoseStamped()\n",
    "coke_pose4.header.frame_id = robot.get_planning_frame()\n",
    "coke_pose4.pose.position.x = 1.0\n",
    "coke_pose4.pose.position.y = -0.2\n",
    "coke_pose4.pose.position.z = 0.96\n",
    "coke_size4 = (0.14, 0.14, 0.28)\n",
    "\n",
    "scene.add_box('coke_01', coke_pose1, coke_size1)\n",
    "scene.add_box('coke_02', coke_pose2, coke_size2)\n",
    "scene.add_box('coke_03', coke_pose3, coke_size3)\n",
    "scene.add_box('coke_04', coke_pose4, coke_size4)"
   ]
  },
  {
   "cell_type": "code",
   "execution_count": 75,
   "metadata": {
    "collapsed": true
   },
   "outputs": [],
   "source": [
    "home = [0.0, 0.0, 0.0, 0.0, 0.0, 0.0]\n",
    "spot2 = [-0.238402, 1.417337, -1.178935, 1.5348, -1.5348, 0.0]\n",
    "spot4 = [0.601035, 0.484058, -1.085093, 0.44452, -0.44452, 0.0]\n",
    "spot6 = [0.097561, -0.194407, -0.653154, 0.828661, -1.018661, 0.0]\n",
    "spot6b = [-0.064848, 0.019399, -0.694551, 0.848466, -0.998466, 0.0]\n",
    "spot6c = [-0.127939, 0.070511, -0.672572, 0.876608, -0.966608, 0.0]\n"
   ]
  },
  {
   "cell_type": "code",
   "execution_count": 76,
   "metadata": {
    "collapsed": true
   },
   "outputs": [],
   "source": [
    "right_arm.set_planner_id('RRTConnectkConfigDefault')\n",
    "right_arm.set_workspace([0.1, -1.1, 0.35, 1.3, 0.5, 1.65])  # [minX, minY, minZ, maxX, maxY, maxZ]\n",
    "right_arm.set_planning_time(3.5)\n",
    "right_arm.set_num_planning_attempts(10)\n",
    "right_arm.allow_looking(True)"
   ]
  },
  {
   "cell_type": "code",
   "execution_count": 77,
   "metadata": {
    "collapsed": true
   },
   "outputs": [],
   "source": [
    "def compute_plan(pose):\n",
    "    right_arm.set_joint_value_target(pose)\n",
    "    my_plan = []\n",
    "    for i in range(20):\n",
    "        my_plan.append(right_arm.plan())\n",
    "        if my_plan[i].joint_trajectory.points:\n",
    "            print 'Solution found in', i+1, 'attemps!'\n",
    "            print i, len(my_plan[i].joint_trajectory.points), 'states created!'\n",
    "            return my_plan[i]\n",
    "    print 'No soultion found :('\n",
    "    return []"
   ]
  },
  {
   "cell_type": "code",
   "execution_count": 78,
   "metadata": {
    "collapsed": false
   },
   "outputs": [
    {
     "name": "stdout",
     "output_type": "stream",
     "text": [
      "Solution found in 1 attemps!\n",
      "0 15 states created!\n"
     ]
    }
   ],
   "source": [
    "plan4 = compute_plan(spot4)"
   ]
  },
  {
   "cell_type": "code",
   "execution_count": 79,
   "metadata": {
    "collapsed": false
   },
   "outputs": [
    {
     "data": {
      "text/plain": [
       "True"
      ]
     },
     "execution_count": 79,
     "metadata": {},
     "output_type": "execute_result"
    }
   ],
   "source": [
    "right_arm.execute(plan4)"
   ]
  },
  {
   "cell_type": "code",
   "execution_count": 80,
   "metadata": {
    "collapsed": false
   },
   "outputs": [
    {
     "data": {
      "text/plain": [
       "False"
      ]
     },
     "execution_count": 80,
     "metadata": {},
     "output_type": "execute_result"
    }
   ],
   "source": [
    "right_eef.attach_object('coke_04', 'r_wrist', ['r_gripper_m15', 'r_gripper_m17'])\n",
    "right_eef.set_joint_value_target([0.0, 1.5])\n",
    "right_eef.go()"
   ]
  },
  {
   "cell_type": "code",
   "execution_count": 81,
   "metadata": {
    "collapsed": false
   },
   "outputs": [
    {
     "name": "stdout",
     "output_type": "stream",
     "text": [
      "Solution found in 1 attemps!\n",
      "0 39 states created!\n"
     ]
    }
   ],
   "source": [
    "plan6 = compute_plan(spot6b)"
   ]
  },
  {
   "cell_type": "code",
   "execution_count": 82,
   "metadata": {
    "collapsed": false
   },
   "outputs": [
    {
     "data": {
      "text/plain": [
       "True"
      ]
     },
     "execution_count": 82,
     "metadata": {},
     "output_type": "execute_result"
    }
   ],
   "source": [
    "right_arm.execute(plan6)"
   ]
  },
  {
   "cell_type": "code",
   "execution_count": 83,
   "metadata": {
    "collapsed": false
   },
   "outputs": [
    {
     "data": {
      "text/plain": [
       "True"
      ]
     },
     "execution_count": 83,
     "metadata": {},
     "output_type": "execute_result"
    }
   ],
   "source": [
    "right_eef.set_joint_value_target([1.5, 0.0])\n",
    "right_eef.go()\n",
    "right_eef.detach_object('coke_04')\n",
    "# scene.remove_world_object('coke_01')"
   ]
  },
  {
   "cell_type": "code",
   "execution_count": 84,
   "metadata": {
    "collapsed": false
   },
   "outputs": [
    {
     "name": "stdout",
     "output_type": "stream",
     "text": [
      "Solution found in 1 attemps!\n",
      "0 13 states created!\n"
     ]
    }
   ],
   "source": [
    "home_plan = compute_plan(home)"
   ]
  },
  {
   "cell_type": "code",
   "execution_count": 85,
   "metadata": {
    "collapsed": false
   },
   "outputs": [
    {
     "data": {
      "text/plain": [
       "True"
      ]
     },
     "execution_count": 85,
     "metadata": {},
     "output_type": "execute_result"
    }
   ],
   "source": [
    "right_arm.execute(home_plan)"
   ]
  },
  {
   "cell_type": "code",
   "execution_count": 87,
   "metadata": {
    "collapsed": false
   },
   "outputs": [
    {
     "name": "stdout",
     "output_type": "stream",
     "text": [
      "Solution found in 1 attemps!\n",
      "0 29 states created!\n"
     ]
    }
   ],
   "source": [
    "plan2 = compute_plan(spot2)"
   ]
  },
  {
   "cell_type": "code",
   "execution_count": 88,
   "metadata": {
    "collapsed": false
   },
   "outputs": [
    {
     "data": {
      "text/plain": [
       "True"
      ]
     },
     "execution_count": 88,
     "metadata": {},
     "output_type": "execute_result"
    }
   ],
   "source": [
    "right_arm.execute(plan2)"
   ]
  },
  {
   "cell_type": "code",
   "execution_count": 89,
   "metadata": {
    "collapsed": false
   },
   "outputs": [
    {
     "data": {
      "text/plain": [
       "False"
      ]
     },
     "execution_count": 89,
     "metadata": {},
     "output_type": "execute_result"
    }
   ],
   "source": [
    "right_eef.attach_object('coke_02', 'r_wrist', ['r_gripper_m15', 'r_gripper_m17'])\n",
    "right_eef.set_joint_value_target([0.0, 1.5])\n",
    "right_eef.go()"
   ]
  },
  {
   "cell_type": "code",
   "execution_count": 90,
   "metadata": {
    "collapsed": false
   },
   "outputs": [
    {
     "name": "stdout",
     "output_type": "stream",
     "text": [
      "No soultion found :(\n"
     ]
    },
    {
     "data": {
      "text/plain": [
       "[]"
      ]
     },
     "execution_count": 90,
     "metadata": {},
     "output_type": "execute_result"
    }
   ],
   "source": [
    "compute_plan(spot4)"
   ]
  },
  {
   "cell_type": "code",
   "execution_count": null,
   "metadata": {
    "collapsed": true
   },
   "outputs": [],
   "source": []
  }
 ],
 "metadata": {
  "anaconda-cloud": {},
  "kernelspec": {
   "display_name": "Python 2",
   "language": "python",
   "name": "python2"
  },
  "language_info": {
   "codemirror_mode": {
    "name": "ipython",
    "version": 2
   },
   "file_extension": ".py",
   "mimetype": "text/x-python",
   "name": "python",
   "nbconvert_exporter": "python",
   "pygments_lexer": "ipython2",
   "version": "2.7.6"
  }
 },
 "nbformat": 4,
 "nbformat_minor": 0
}
