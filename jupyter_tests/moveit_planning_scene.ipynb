{
 "cells": [
  {
   "cell_type": "code",
   "execution_count": null,
   "metadata": {
    "collapsed": true
   },
   "outputs": [],
   "source": [
    "import moveit_commander\n",
    "import rospy\n",
    "import sys\n",
    "import geometry_msgs\n",
    "import tf.transformations\n",
    "import math"
   ]
  },
  {
   "cell_type": "code",
   "execution_count": null,
   "metadata": {
    "collapsed": true
   },
   "outputs": [],
   "source": [
    "rospy.init_node('urielo_node')\n",
    "moveit_commander.roscpp_initialize(sys.argv)"
   ]
  },
  {
   "cell_type": "code",
   "execution_count": null,
   "metadata": {
    "collapsed": true
   },
   "outputs": [],
   "source": [
    "robot = moveit_commander.RobotCommander()\n",
    "scene = moveit_commander.PlanningSceneInterface()"
   ]
  },
  {
   "cell_type": "code",
   "execution_count": null,
   "metadata": {
    "collapsed": false
   },
   "outputs": [],
   "source": [
    "offset_x = 0.54\n",
    "offset_y = -1.0 + 0.39\n",
    "offset_z = 0.0\n",
    "roll = 0.0\n",
    "pitch = 0.0\n",
    "yaw = -2.8\n",
    "quat = tf.transformations.quaternion_from_euler(roll, pitch, yaw)\n",
    "\n",
    "back_pose = geometry_msgs.msg.PoseStamped()\n",
    "left_pose = geometry_msgs.msg.PoseStamped()\n",
    "right_pose = geometry_msgs.msg.PoseStamped()\n",
    "bottom_pose = geometry_msgs.msg.PoseStamped()\n",
    "top_pose = geometry_msgs.msg.PoseStamped()\n",
    "shelf1_pose = geometry_msgs.msg.PoseStamped()\n",
    "shelf2_pose = geometry_msgs.msg.PoseStamped()\n",
    "\n",
    "back_pose.header.frame_id = robot.get_planning_frame()\n",
    "back_pose.pose.position.x = -0.2*math.sin(yaw) + offset_x\n",
    "back_pose.pose.position.y = -0.2 + 0.2*math.cos(yaw) + offset_y\n",
    "back_pose.pose.position.z = 0.6\n",
    "back_pose.pose.orientation.x = quat[0]\n",
    "back_pose.pose.orientation.y = quat[1]\n",
    "back_pose.pose.orientation.z = quat[2]\n",
    "back_pose.pose.orientation.w = quat[3]\n",
    "back_size = (0.9, 0.01, 1.2)\n",
    "\n",
    "left_pose.header.frame_id = robot.get_planning_frame()\n",
    "left_pose.pose.position.x = 0.45*math.cos(yaw) + offset_x\n",
    "left_pose.pose.position.y = -0.195 + 0.45*math.sin(yaw) + offset_y\n",
    "left_pose.pose.position.z = 0.6\n",
    "left_pose.pose.orientation.x = quat[0]\n",
    "left_pose.pose.orientation.y = quat[1]\n",
    "left_pose.pose.orientation.z = quat[2]\n",
    "left_pose.pose.orientation.w = quat[3]\n",
    "left_size = (0.02, 0.4, 1.2)\n",
    "\n",
    "right_pose.header.frame_id = robot.get_planning_frame()\n",
    "right_pose.pose.position.x = -0.45*math.cos(yaw) + offset_x\n",
    "right_pose.pose.position.y = -0.195 - 0.45*math.sin(yaw) + offset_y\n",
    "right_pose.pose.position.z = 0.6\n",
    "right_pose.pose.orientation.x = quat[0]\n",
    "right_pose.pose.orientation.y = quat[1]\n",
    "right_pose.pose.orientation.z = quat[2]\n",
    "right_pose.pose.orientation.w = quat[3]\n",
    "right_size = (0.02, 0.4, 1.2)\n",
    "\n",
    "bottom_pose.header.frame_id = robot.get_planning_frame()\n",
    "bottom_pose.pose.position.x = 0.0 + offset_x\n",
    "bottom_pose.pose.position.y = -0.195 + offset_y\n",
    "bottom_pose.pose.position.z = 0.03\n",
    "bottom_pose.pose.orientation.x = quat[0]\n",
    "bottom_pose.pose.orientation.y = quat[1]\n",
    "bottom_pose.pose.orientation.z = quat[2]\n",
    "bottom_pose.pose.orientation.w = quat[3]\n",
    "bottom_size = (0.88, 0.4, 0.06)\n",
    "\n",
    "top_pose.header.frame_id = robot.get_planning_frame()\n",
    "top_pose.pose.position.x = 0.0 + offset_x\n",
    "top_pose.pose.position.y = -0.195 + offset_y\n",
    "top_pose.pose.position.z = 1.19\n",
    "top_pose.pose.orientation.x = quat[0]\n",
    "top_pose.pose.orientation.y = quat[1]\n",
    "top_pose.pose.orientation.z = quat[2]\n",
    "top_pose.pose.orientation.w = quat[3]\n",
    "top_size = (0.88, 0.4, 0.02)\n",
    "\n",
    "shelf1_pose.header.frame_id = robot.get_planning_frame()\n",
    "shelf1_pose.pose.position.x = 0.0 + offset_x\n",
    "shelf1_pose.pose.position.y = -0.195 + offset_y\n",
    "shelf1_pose.pose.position.z = 0.8\n",
    "shelf1_pose.pose.orientation.x = quat[0]\n",
    "shelf1_pose.pose.orientation.y = quat[1]\n",
    "shelf1_pose.pose.orientation.z = quat[2]\n",
    "shelf1_pose.pose.orientation.w = quat[3]\n",
    "shelf1_size = (0.88, 0.4, 0.02)\n",
    "\n",
    "shelf2_pose.header.frame_id = robot.get_planning_frame()\n",
    "shelf2_pose.pose.position.x = 0.0 + offset_x\n",
    "shelf2_pose.pose.position.y = -0.195 + offset_y\n",
    "shelf2_pose.pose.position.z = 0.43\n",
    "shelf2_pose.pose.orientation.x = quat[0]\n",
    "shelf2_pose.pose.orientation.y = quat[1]\n",
    "shelf2_pose.pose.orientation.z = quat[2]\n",
    "shelf2_pose.pose.orientation.w = quat[3]\n",
    "shelf2_size = (0.88, 0.4, 0.02)"
   ]
  },
  {
   "cell_type": "code",
   "execution_count": null,
   "metadata": {
    "collapsed": true
   },
   "outputs": [],
   "source": [
    "scene.add_box('back', back_pose, back_size)\n",
    "scene.add_box('left', left_pose, left_size)\n",
    "scene.add_box('right', right_pose, right_size)\n",
    "scene.add_box('bottom', bottom_pose, bottom_size)\n",
    "scene.add_box('top', top_pose, top_size)\n",
    "scene.add_box('shelf1', shelf1_pose, shelf1_size)\n",
    "scene.add_box('shelf2', shelf2_pose, shelf2_size)"
   ]
  },
  {
   "cell_type": "code",
   "execution_count": null,
   "metadata": {
    "collapsed": true
   },
   "outputs": [],
   "source": [
    "scene.add_box('back2', back_pose, back_size)\n",
    "scene.add_box('left2', left_pose, left_size)\n",
    "scene.add_box('right2', right_pose, right_size)\n",
    "scene.add_box('bottom2', bottom_pose, bottom_size)\n",
    "scene.add_box('top2', top_pose, top_size)\n",
    "scene.add_box('shelf12', shelf1_pose, shelf1_size)\n",
    "scene.add_box('shelf22', shelf2_pose, shelf2_size)"
   ]
  },
  {
   "cell_type": "code",
   "execution_count": null,
   "metadata": {
    "collapsed": true
   },
   "outputs": [],
   "source": [
    ""
   ]
  }
 ],
 "metadata": {
  "anaconda-cloud": {},
  "kernelspec": {
   "display_name": "Python 2",
   "language": "python",
   "name": "python2"
  },
  "language_info": {
   "codemirror_mode": {
    "name": "ipython",
    "version": 2.0
   },
   "file_extension": ".py",
   "mimetype": "text/x-python",
   "name": "python",
   "nbconvert_exporter": "python",
   "pygments_lexer": "ipython2",
   "version": "2.7.6"
  }
 },
 "nbformat": 4,
 "nbformat_minor": 0
}