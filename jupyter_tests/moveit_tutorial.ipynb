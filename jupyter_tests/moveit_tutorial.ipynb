{
 "cells": [
  {
   "cell_type": "markdown",
   "metadata": {},
   "source": [
    "# MoveIt! Tutorial"
   ]
  },
  {
   "cell_type": "markdown",
   "metadata": {},
   "source": [
    "## 1. Setup"
   ]
  },
  {
   "cell_type": "markdown",
   "metadata": {},
   "source": [
    "The interface with MoveIt! is through the **RobotCommander** class.  \n",
    "Thus we import moveit_commander.  \n",
    "\n",
    "Initiante moveit_commander and a ROS node"
   ]
  },
  {
   "cell_type": "code",
   "execution_count": null,
   "metadata": {
    "collapsed": false
   },
   "outputs": [
    {
     "name": "stdout",
     "output_type": "stream",
     "text": [
      "============ STARTING TUTORIAL SETUP =============\n"
     ]
    }
   ],
   "source": [
    "import sys\n",
    "import copy\n",
    "import rospy\n",
    "import moveit_commander\n",
    "import moveit_msgs.msg\n",
    "import moveit_msgs.srv\n",
    "import geometry_msgs.msg\n",
    "\n",
    "print \"============ STARTING TUTORIAL SETUP =============\"\n",
    "moveit_commander.roscpp_initialize(sys.argv)\n",
    "rospy.init_node('move_group_node_04')\n",
    "\n",
    "# Robot commander object -> interface the robot as a whole\n",
    "robot = moveit_commander.RobotCommander()\n",
    "# Planning scene object -> interface the world of the robot\n",
    "scene = moveit_commander.PlanningSceneInterface()\n",
    "# MoveGroup object\n",
    "group = moveit_commander.MoveGroupCommander(\"right_arm\")\n",
    "right_eef = moveit_commander.MoveGroupCommander(\"right_eef\")\n",
    "\n",
    "# Publisher to display trajectories in Rviz.\n",
    "rviz_pub = rospy.Publisher('/move_group/display_planned_path', moveit_msgs.msg.DisplayTrajectory, queue_size=10)\n",
    "# Rviz must be opened manually:\n",
    "# roslaunch golem_moveit_config demo.launch\n",
    "print \"============ Waiting for RVIZ... ============\"\n",
    "# rospy.sleep(5)\n",
    "print \"============= Starting tutorial =============\\n\""
   ]
  },
  {
   "cell_type": "markdown",
   "metadata": {},
   "source": [
    "## 2. Getting basic information"
   ]
  },
  {
   "cell_type": "code",
   "execution_count": 2,
   "metadata": {
    "collapsed": false
   },
   "outputs": [
    {
     "name": "stdout",
     "output_type": "stream",
     "text": [
      "Reference frame: /world\n",
      "Robot Groups: ['chest', 'left_arm', 'left_eef', 'right_arm', 'right_eef']\n"
     ]
    }
   ],
   "source": [
    "print \"Reference frame: %s\" % group.get_planning_frame()\n",
    "print \"Robot Groups:\", robot.get_group_names()"
   ]
  },
  {
   "cell_type": "code",
   "execution_count": 6,
   "metadata": {
    "collapsed": false
   },
   "outputs": [
    {
     "name": "stdout",
     "output_type": "stream",
     "text": [
      "======== ENTIRE ROBOT STATE ========\n"
     ]
    },
    {
     "data": {
      "text/plain": [
       "joint_state: \n",
       "  header: \n",
       "    seq: 0\n",
       "    stamp: \n",
       "      secs: 0\n",
       "      nsecs:         0\n",
       "    frame_id: /world\n",
       "  name: ['mb', 'm0', 'm1', 'm2', 'm10', 'm11', 'm12', 'm13', 'm14', 'm15', 'm17', 'm20', 'm21', 'm22', 'm23', 'm24', 'm25', 'm27']\n",
       "  position: [0.0, 0.0, 0.0, 0.0, 0.0, 0.0, 0.0, 0.0, 0.0, 0.0, 0.0, 0.0, 0.0, 0.0, 0.0, 0.0, 0.0, 0.0]\n",
       "  velocity: []\n",
       "  effort: []\n",
       "multi_dof_joint_state: \n",
       "  header: \n",
       "    seq: 0\n",
       "    stamp: \n",
       "      secs: 0\n",
       "      nsecs:         0\n",
       "    frame_id: /world\n",
       "  joint_names: []\n",
       "  transforms: []\n",
       "  twist: []\n",
       "  wrench: []\n",
       "attached_collision_objects: []\n",
       "is_diff: False"
      ]
     },
     "execution_count": 6,
     "metadata": {},
     "output_type": "execute_result"
    }
   ],
   "source": [
    "print \"======== ENTIRE ROBOT STATE ========\"\n",
    "robot.get_current_state()"
   ]
  },
  {
   "cell_type": "markdown",
   "metadata": {},
   "source": [
    "## 3. Planning to a pose goal  \n",
    "Plan a motion for this group to a desired pose for the end-effector.  "
   ]
  },
  {
   "cell_type": "code",
   "execution_count": 2,
   "metadata": {
    "collapsed": false
   },
   "outputs": [
    {
     "name": "stdout",
     "output_type": "stream",
     "text": [
      "COMPUTING PLAN 1...\n"
     ]
    }
   ],
   "source": [
    "print \"COMPUTING PLAN 1...\"\n",
    "# We use a standard pose msg\n",
    "pose_target = geometry_msgs.msg.Pose()\n",
    "pose_target.orientation.x = 0.705865\n",
    "pose_target.orientation.y = 0.137701\n",
    "pose_target.orientation.z = 0.687766\n",
    "pose_target.orientation.w = -0.0988454\n",
    "\n",
    "pose_target.position.x = 0.678809\n",
    "pose_target.position.y = -0.139463\n",
    "pose_target.position.z = 1.00571\n",
    "\n",
    "# Send the pose to the planner\n",
    "group.set_pose_target(pose_target)"
   ]
  },
  {
   "cell_type": "code",
   "execution_count": 3,
   "metadata": {
    "collapsed": false
   },
   "outputs": [
    {
     "name": "stdout",
     "output_type": "stream",
     "text": [
      "============ Joint values:  (0.5, -0.5, 0.0, 0.0, 0.0, 0.0)\n",
      "============ Waiting while RVIZ displays plan2...\n"
     ]
    }
   ],
   "source": [
    "r_arm_joints = (-0.837832, -1.12992, 1.967752, 0.625803, -0.065803, 0.0)\n",
    "\n",
    "r_arm_joints = (0.5, -0.5, 0.0, 0.0, 0.0, 0.0)\n",
    "\n",
    "print \"============ Joint values: \", r_arm_joints\n",
    "group.set_joint_value_target(r_arm_joints)\n",
    "\n",
    "plan2 = group.plan()\n",
    "group.go()\n",
    "\n",
    "print \"============ Waiting while RVIZ displays plan2...\"\n",
    "rospy.sleep(5)\n"
   ]
  },
  {
   "cell_type": "code",
   "execution_count": 3,
   "metadata": {
    "collapsed": false
   },
   "outputs": [],
   "source": [
    "group.set_planner_id('RRTkConfigDefault')\n",
    "group."
   ]
  },
  {
   "cell_type": "code",
   "execution_count": 8,
   "metadata": {
    "collapsed": false
   },
   "outputs": [
    {
     "name": "stdout",
     "output_type": "stream",
     "text": [
      "Waiting while Rviz displays plan1...\n"
     ]
    },
    {
     "data": {
      "text/plain": [
       "False"
      ]
     },
     "execution_count": 8,
     "metadata": {},
     "output_type": "execute_result"
    }
   ],
   "source": [
    "# Call the planner to compute the plan\n",
    "plan1 = group.plan()\n",
    "print \"Waiting while Rviz displays plan1...\"\n",
    "rospy.sleep(5)\n",
    "group.go()"
   ]
  },
  {
   "cell_type": "markdown",
   "metadata": {},
   "source": [
    "### Some useful properties  of moveit_commander.MoveGroupCommander()\n",
    "\n",
    "- arm.get_current_joint_values()\n",
    "- arm.get_current_pose()\n",
    "- arm.get_current_rpy()"
   ]
  },
  {
   "cell_type": "markdown",
   "metadata": {},
   "source": [
    "## 4. Kinematics\n",
    "\n",
    "We can compute forward and inverse kinematics through services offered by moveit_commander:\n",
    "\n",
    "- [/compute_ik](http://docs.ros.org/api/moveit_msgs/html/srv/GetPositionIK.html)\n",
    "- [/compute_fk](http://docs.ros.org/api/moveit_msgs/html/srv/GetPositionFK.html)\n",
    "\n",
    "### 4.1 Inverse kinematics service"
   ]
  },
  {
   "cell_type": "code",
   "execution_count": null,
   "metadata": {
    "collapsed": false
   },
   "outputs": [],
   "source": [
    "# Init service client object\n",
    "rospy.wait_for_service('/golem_kinematics/right_arm/compute_ik')\n",
    "print \"IK service was found!\"\n",
    "compute_ik = rospy.ServiceProxy('/golem_kinematics/right_arm/compute_ik', moveit_msgs.srv.GetPositionIK)"
   ]
  },
  {
   "cell_type": "code",
   "execution_count": null,
   "metadata": {
    "collapsed": true
   },
   "outputs": [],
   "source": [
    "# srv request definition\n",
    "reqik = moveit_msgs.srv.GetPositionIKRequest()\n",
    "\n",
    "# Desired end effector position\n",
    "desired_pose = geometry_msgs.msg.PoseStamped()\n",
    "desired_pose.pose.position.x = 0.862551918502\n",
    "desired_pose.pose.position.y = 0.00557360531441\n",
    "desired_pose.pose.position.z = 1.55093489162\n",
    "desired_pose.pose.orientation.x = 0.438226117241\n",
    "desired_pose.pose.orientation.y = -0.445485839948\n",
    "desired_pose.pose.orientation.z = 0.265900911042\n",
    "desired_pose.pose.orientation.w = 0.734027889171\n",
    "\n",
    "reqik.ik_request.group_name = 'right_arm'\n",
    "reqik.ik_request.robot_state = robot.get_current_state()\n",
    "# reqik.ik_request.constraints\n",
    "reqik.ik_request.avoid_collisions = True\n",
    "reqik.ik_request.ik_link_name = 'r_eef'\n",
    "reqik.ik_request.pose_stamped = desired_pose\n",
    "reqik.ik_request.timeout.secs = 5\n",
    "reqik.ik_request.attempts = 0"
   ]
  },
  {
   "cell_type": "code",
   "execution_count": null,
   "metadata": {
    "collapsed": false
   },
   "outputs": [],
   "source": [
    "%time respik = compute_ik(reqik)\n",
    "print respik.solution.joint_state.name\n",
    "print respik.solution.joint_state.position\n",
    "print 'Error code: ', respik.error_code.val"
   ]
  },
  {
   "cell_type": "markdown",
   "metadata": {},
   "source": [
    "CPU times: user 0 ns, sys: 8 ms, total: 8 ms  \n",
    "Wall time: 727 ms  \n",
    "['m0', 'm10', 'm11', 'm12', 'm13', 'm14']  \n",
    "(-0.49726, 1.72036, -0.9031, 1.54248, -0.89248, 0.0)  \n",
    "Error code:  1  "
   ]
  },
  {
   "cell_type": "markdown",
   "metadata": {},
   "source": [
    "### 4.2 Forward kinematics"
   ]
  },
  {
   "cell_type": "code",
   "execution_count": null,
   "metadata": {
    "collapsed": true
   },
   "outputs": [],
   "source": [
    "# Initialize service client\n",
    "rospy.wait_for_service('/golem_kinematics/right_arm/compute_fk')\n",
    "compute_fk = rospy.ServiceProxy('/golem_kinematics/right_arm/compute_fk', moveit_msgs.srv.GetPositionFK)"
   ]
  },
  {
   "cell_type": "code",
   "execution_count": null,
   "metadata": {
    "collapsed": false
   },
   "outputs": [],
   "source": [
    "# srv request definition\n",
    "reqfk = moveit_msgs.srv.GetPositionFKRequest()\n",
    "reqfk.robot_state = robot.get_current_state()"
   ]
  },
  {
   "cell_type": "code",
   "execution_count": null,
   "metadata": {
    "collapsed": false
   },
   "outputs": [],
   "source": [
    "compute_fk(reqfk)"
   ]
  }
 ],
 "metadata": {
  "anaconda-cloud": {},
  "kernelspec": {
   "display_name": "Python 2",
   "language": "python",
   "name": "python2"
  },
  "language_info": {
   "codemirror_mode": {
    "name": "ipython",
    "version": 2
   },
   "file_extension": ".py",
   "mimetype": "text/x-python",
   "name": "python",
   "nbconvert_exporter": "python",
   "pygments_lexer": "ipython2",
   "version": "2.7.6"
  }
 },
 "nbformat": 4,
 "nbformat_minor": 0
}
